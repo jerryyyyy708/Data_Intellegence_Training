{
 "cells": [
  {
   "cell_type": "code",
   "execution_count": 1,
   "id": "6e37fadf",
   "metadata": {
    "_cell_guid": "b1076dfc-b9ad-4769-8c92-a6c4dae69d19",
    "_uuid": "8f2839f25d086af736a60e9eeb907d3b93b6e0e5",
    "execution": {
     "iopub.execute_input": "2023-08-22T10:14:10.221840Z",
     "iopub.status.busy": "2023-08-22T10:14:10.221114Z",
     "iopub.status.idle": "2023-08-22T10:14:14.095922Z",
     "shell.execute_reply": "2023-08-22T10:14:14.094882Z"
    },
    "papermill": {
     "duration": 3.885855,
     "end_time": "2023-08-22T10:14:14.098779",
     "exception": false,
     "start_time": "2023-08-22T10:14:10.212924",
     "status": "completed"
    },
    "tags": []
   },
   "outputs": [],
   "source": [
    "import torch\n",
    "import numpy as np\n",
    "import torch.nn as nn\n",
    "from torch.utils.data import Dataset\n",
    "from torch.utils.data.dataloader import DataLoader\n",
    "import torch.optim as optim\n",
    "from tqdm import tqdm\n",
    "\n",
    "if torch.cuda.is_available():\n",
    "    torch.cuda.empty_cache()\n",
    "    device = \"cuda:0\" \n",
    "else:\n",
    "    device = \"cpu\" "
   ]
  },
  {
   "cell_type": "code",
   "execution_count": 2,
   "id": "fa8a4501",
   "metadata": {
    "execution": {
     "iopub.execute_input": "2023-08-22T10:14:14.109988Z",
     "iopub.status.busy": "2023-08-22T10:14:14.109490Z",
     "iopub.status.idle": "2023-08-22T10:14:15.140450Z",
     "shell.execute_reply": "2023-08-22T10:14:15.139374Z"
    },
    "papermill": {
     "duration": 1.039499,
     "end_time": "2023-08-22T10:14:15.142883",
     "exception": false,
     "start_time": "2023-08-22T10:14:14.103384",
     "status": "completed"
    },
    "tags": []
   },
   "outputs": [
    {
     "name": "stderr",
     "output_type": "stream",
     "text": [
      "/opt/conda/lib/python3.10/site-packages/scipy/__init__.py:146: UserWarning: A NumPy version >=1.16.5 and <1.23.0 is required for this version of SciPy (detected version 1.23.5\n",
      "  warnings.warn(f\"A NumPy version >={np_minversion} and <{np_maxversion}\"\n"
     ]
    }
   ],
   "source": [
    "from sklearn.metrics import roc_auc_score, f1_score\n",
    "from sklearn.metrics import accuracy_score\n",
    "import csv\n",
    "\n",
    "\n",
    "def Partial_Accuracy(y_true, y_pred):\n",
    "    temp = 0\n",
    "    for i in range(y_true.shape[0]):\n",
    "        temp += sum(np.logical_and(y_true[i], y_pred[i])) / sum(np.logical_or(y_true[i], y_pred[i]))\n",
    "    return temp / y_true.shape[0]\n",
    "\n",
    "def calculate_metrics(y_true, y_pred_prob, partial = False):\n",
    "    # Calculate accuracy\n",
    "    y_pred = (y_pred_prob > 0.5).astype(int)\n",
    "    num_labels = y_true.shape[1]\n",
    "    if partial:\n",
    "        accuracy = Partial_Accuracy(y_true, y_pred)\n",
    "    else:\n",
    "        accuracy = accuracy_score(y_true, y_pred)\n",
    "    \n",
    "    auroc_scores = []\n",
    "    for class_idx in range(5):        \n",
    "        class_true = y_true[:, class_idx]\n",
    "        class_pred = y_pred_prob[:, class_idx]\n",
    "        auroc = roc_auc_score(class_true, class_pred)\n",
    "        auroc_scores.append(auroc)\n",
    "\n",
    "    macro_auroc = np.mean(auroc_scores)\n",
    "    \n",
    "    micro_f1 = f1_score(y_true, y_pred, average=\"micro\")\n",
    "    \n",
    "    return accuracy, macro_auroc, micro_f1\n",
    "\n",
    "def SaveCsvForPlot(filename, train_acc_plot, train_auroc_plot, train_f1_plot, val_acc_plot, val_auroc_plot, val_f1_plot):\n",
    "    data = [(a,b,c,d,e,f) for a,b,c,d,e,f in zip(train_acc_plot, train_auroc_plot, train_f1_plot, val_acc_plot, val_auroc_plot, val_f1_plot)]\n",
    "    with open(filename, \"w\", newline=\"\") as csvfile:\n",
    "        writer = csv.writer(csvfile)\n",
    "        writer.writerows(data)\n",
    "\n",
    "\n",
    "def train(model, train_set, test_set, batch_size, epochs, lr, csv_name = \"report\"):\n",
    "    dev = \"cuda:0\"\n",
    "    train_loader = DataLoader(train_set, batch_size = batch_size, shuffle = True)\n",
    "    test_loader = DataLoader(test_set, batch_size = batch_size)\n",
    "    loss_function = nn.BCEWithLogitsLoss()\n",
    "    optimizer = optim.Adam(model.parameters(), lr=lr)\n",
    "    \n",
    "    train_acc_plot = []\n",
    "    train_auroc_plot = []\n",
    "    train_f1_plot = []\n",
    "    val_acc_plot = []\n",
    "    val_auroc_plot = []\n",
    "    val_f1_plot = []\n",
    "\n",
    "    for epoch in range(epochs):\n",
    "        \n",
    "        train_labels_all = []\n",
    "        train_probs_all = []\n",
    "        val_labels_all = []\n",
    "        val_probs_all = []\n",
    "        \n",
    "        model.train()\n",
    "        for x, y in tqdm(train_loader):\n",
    "            x, y = x.to(dev).float(), y.to(dev).float()\n",
    "            optimizer.zero_grad()\n",
    "            output=model(x).float()\n",
    "            loss=loss_function(output,y)\n",
    "            loss.backward()\n",
    "            optimizer.step()\n",
    "            train_probs_all.append(torch.sigmoid(output).detach().cpu().numpy())\n",
    "            train_labels_all.append(y.detach().cpu().numpy())\n",
    "        \n",
    "        train_probs_all = np.concatenate(train_probs_all)\n",
    "        train_labels_all = np.concatenate(train_labels_all)\n",
    "        train_accuracy, train_macro_auroc, train_micro_f1 = calculate_metrics(train_labels_all, train_probs_all)\n",
    "        train_acc_plot.append(train_accuracy)\n",
    "        train_auroc_plot.append(train_macro_auroc)\n",
    "        train_f1_plot.append(train_micro_f1)\n",
    "        \n",
    "        model.eval()\n",
    "        with torch.no_grad():\n",
    "            for x, y in tqdm(test_loader):\n",
    "                x, y = x.to(dev).float(), y.to(dev).to(torch.int64)\n",
    "                output=model(x).float()\n",
    "                val_probs_all.append(torch.sigmoid(output).cpu().numpy())\n",
    "                #val_probs = output.cpu().numpy()\n",
    "                val_labels_all.append(y.cpu().numpy())\n",
    "        \n",
    "        val_probs_all = np.concatenate(val_probs_all)\n",
    "        val_labels_all = np.concatenate(val_labels_all)\n",
    "        val_accuracy, val_macro_auroc, val_micro_f1 = calculate_metrics(val_labels_all, val_probs_all)\n",
    "        val_acc_plot.append(val_accuracy)\n",
    "        val_auroc_plot.append(val_macro_auroc)\n",
    "        val_f1_plot.append(val_micro_f1)\n",
    "        \n",
    "        print(f\"Epoch {epoch+1}:\")\n",
    "        print(f\"Train: accuracy = {train_accuracy}, AUROC = {train_macro_auroc}, F1 = {train_micro_f1}\")  \n",
    "        print(f\"Test: accuracy = {val_accuracy}, AUROC = {val_macro_auroc}, F1 = {val_micro_f1}\")\n",
    "        SaveCsvForPlot(f\"{csv_name}.csv\", train_acc_plot, train_auroc_plot, train_f1_plot, val_acc_plot, val_auroc_plot, val_f1_plot)"
   ]
  },
  {
   "cell_type": "code",
   "execution_count": 3,
   "id": "ad52d79b",
   "metadata": {
    "execution": {
     "iopub.execute_input": "2023-08-22T10:14:15.154180Z",
     "iopub.status.busy": "2023-08-22T10:14:15.153854Z",
     "iopub.status.idle": "2023-08-22T10:14:32.667831Z",
     "shell.execute_reply": "2023-08-22T10:14:32.666894Z"
    },
    "papermill": {
     "duration": 17.522204,
     "end_time": "2023-08-22T10:14:32.670262",
     "exception": false,
     "start_time": "2023-08-22T10:14:15.148058",
     "status": "completed"
    },
    "tags": []
   },
   "outputs": [],
   "source": [
    "from sklearn.preprocessing import MultiLabelBinarizer\n",
    "\n",
    "X_train = np.load('/kaggle/input/ptb-xl-fold-6/PTB-XL_X_train.npy', allow_pickle=True)\n",
    "y_train = np.load('/kaggle/input/ptb-xl-fold-6/PTB-XL_y_train.npy', allow_pickle=True)\n",
    "X_test = np.load('/kaggle/input/ptb-xl-fold-6/PTB-XL_X_test.npy', allow_pickle=True)\n",
    "y_test = np.load('/kaggle/input/ptb-xl-fold-6/PTB-XL_y_test.npy',allow_pickle=True)\n",
    "mlb = MultiLabelBinarizer()\n",
    "mlb.fit(y_train)\n",
    "y_train_onehot = mlb.transform(y_train)\n",
    "y_test_onehot = mlb.transform(y_test)"
   ]
  },
  {
   "cell_type": "code",
   "execution_count": 4,
   "id": "5dab6ff8",
   "metadata": {
    "execution": {
     "iopub.execute_input": "2023-08-22T10:14:32.681048Z",
     "iopub.status.busy": "2023-08-22T10:14:32.680748Z",
     "iopub.status.idle": "2023-08-22T10:14:32.709191Z",
     "shell.execute_reply": "2023-08-22T10:14:32.708169Z"
    },
    "papermill": {
     "duration": 0.036508,
     "end_time": "2023-08-22T10:14:32.711412",
     "exception": false,
     "start_time": "2023-08-22T10:14:32.674904",
     "status": "completed"
    },
    "tags": []
   },
   "outputs": [],
   "source": [
    "class ECG_Data(Dataset):\n",
    "    def __init__(self, x, y, mode = '1d'):\n",
    "        self.x = x\n",
    "        self.y = y\n",
    "        self.mode = mode\n",
    "    \n",
    "    def __getitem__(self,index):\n",
    "        x = self.x[index]\n",
    "        if self.mode == '1d':\n",
    "            x = x.reshape(12, 1000)\n",
    "        elif self.mode == '2d':\n",
    "            x = x.reshape(12, 1, 1000)\n",
    "        label = self.y[index]\n",
    "        return torch.from_numpy(x).float(), torch.from_numpy(label).float()\n",
    "    \n",
    "    def __len__(self):\n",
    "        return len(self.y)\n",
    "\n",
    "    \n",
    "class ResBlock(nn.Module):\n",
    "\n",
    "    def __init__(self, in_channels, out_channels, kernel_size, stride, padding, downsample=None):\n",
    "        super(ResBlock, self).__init__()\n",
    "        self.bn1 = nn.BatchNorm1d(num_features=in_channels)\n",
    "        self.relu = nn.ReLU(inplace=False)\n",
    "        self.dropout = nn.Dropout(p=0.1, inplace=False)\n",
    "        self.conv1 = nn.Conv1d(in_channels=in_channels, out_channels=out_channels, kernel_size=kernel_size,\n",
    "                               stride=stride, padding=padding, bias=False)\n",
    "        self.bn2 = nn.BatchNorm1d(num_features=out_channels)\n",
    "        self.conv2 = nn.Conv1d(in_channels=out_channels, out_channels=out_channels, kernel_size=kernel_size,\n",
    "                               stride=stride, padding=padding, bias=False)\n",
    "        self.maxpool = nn.MaxPool1d(kernel_size=2, stride=2, padding=0)\n",
    "        self.downsample = downsample\n",
    "\n",
    "    def forward(self, x):\n",
    "        identity = x\n",
    "        out = self.bn1(x)\n",
    "        out = self.relu(out)\n",
    "        out = self.dropout(out)\n",
    "        out = self.conv1(out)\n",
    "        #print(out.shape)\n",
    "        out = self.bn2(out)\n",
    "        out = self.relu(out)\n",
    "        out = self.dropout(out)\n",
    "        out = self.conv2(out)\n",
    "        #print(out.shape)\n",
    "\n",
    "        if self.downsample is not None:\n",
    "            out = self.maxpool(out)\n",
    "            identity = self.downsample(x)\n",
    "\n",
    "        out += identity\n",
    "        # print(out.shape)\n",
    "\n",
    "        return out\n",
    "    \n",
    "class ECGNet(nn.Module):\n",
    "\n",
    "    def __init__(self, struct=[15, 17, 19, 21], in_channels= 12, fixed_kernel_size=17, num_classes=5):\n",
    "        super(ECGNet, self).__init__()\n",
    "        self.struct = struct\n",
    "        self.planes = 16\n",
    "        self.parallel_conv = nn.ModuleList()\n",
    "\n",
    "        for i, kernel_size in enumerate(struct):\n",
    "            sep_conv = nn.Conv1d(in_channels=in_channels, out_channels=self.planes, kernel_size=kernel_size,\n",
    "                               stride=1, padding=0, bias=False)\n",
    "            self.parallel_conv.append(sep_conv)\n",
    "\n",
    "        self.bn1 = nn.BatchNorm1d(num_features=self.planes)\n",
    "        self.relu = nn.ReLU(inplace=False)\n",
    "        self.conv1 = nn.Conv1d(in_channels=self.planes, out_channels=self.planes, kernel_size=fixed_kernel_size,\n",
    "                               stride=2, padding=2, bias=False)\n",
    "        self.block = self._make_layer(kernel_size=fixed_kernel_size, stride=1, padding=8)\n",
    "        self.bn2 = nn.BatchNorm1d(num_features=self.planes)\n",
    "        self.avgpool = nn.AvgPool1d(kernel_size=8, stride=8, padding=2)\n",
    "        self.rnn = nn.LSTM(input_size=12, hidden_size=40, num_layers=1, bidirectional=False)\n",
    "        self.fc = nn.Linear(in_features=168, out_features=num_classes)\n",
    "\n",
    "\n",
    "    def _make_layer(self, kernel_size, stride, blocks=15, padding=0):\n",
    "        layers = []\n",
    "        downsample = None\n",
    "        base_width = self.planes\n",
    "\n",
    "        for i in range(blocks):\n",
    "            if (i + 1) % 4 == 0:\n",
    "                downsample = nn.Sequential(\n",
    "                    nn.Conv1d(in_channels=self.planes, out_channels=self.planes + base_width, kernel_size=1,\n",
    "                               stride=1, padding=0, bias=False),\n",
    "                    nn.MaxPool1d(kernel_size=2, stride=2, padding=0)\n",
    "                )\n",
    "                layers.append(ResBlock(in_channels=self.planes, out_channels=self.planes + base_width, kernel_size=kernel_size,\n",
    "                                       stride=stride, padding=padding, downsample=downsample))\n",
    "                self.planes += base_width\n",
    "            elif (i + 1) % 2 == 0:\n",
    "                downsample = nn.Sequential(\n",
    "                    nn.MaxPool1d(kernel_size=2, stride=2, padding=0)\n",
    "                )\n",
    "                layers.append(ResBlock(in_channels=self.planes, out_channels=self.planes, kernel_size=kernel_size,\n",
    "                                       stride=stride, padding=padding, downsample=downsample))\n",
    "            else:\n",
    "                downsample = None\n",
    "                layers.append(ResBlock(in_channels=self.planes, out_channels=self.planes, kernel_size=kernel_size,\n",
    "                                       stride=stride, padding=padding, downsample=downsample))\n",
    "\n",
    "        return nn.Sequential(*layers)\n",
    "\n",
    "\n",
    "\n",
    "    def forward(self, x):\n",
    "        out_sep = []\n",
    "\n",
    "        for i in range(len(self.struct)):\n",
    "            sep = self.parallel_conv[i](x)\n",
    "            out_sep.append(sep)\n",
    "\n",
    "        out = torch.cat(out_sep, dim=2)\n",
    "        out = self.bn1(out)\n",
    "        out = self.relu(out)\n",
    "        out = self.conv1(out)  # out => [b, 16, 9960]\n",
    "\n",
    "        out = self.block(out)\n",
    "        out = self.bn2(out)\n",
    "        out = self.relu(out)\n",
    "        out = self.avgpool(out)  # out => [b, 64, 10]\n",
    "        out = out.reshape(out.shape[0], -1)  # out => [b, 640]\n",
    "\n",
    "        rnn_out, (rnn_h, rnn_c) = self.rnn(x.permute(2, 0, 1))\n",
    "        new_rnn_h = rnn_h[-1, :, :]  # rnn_h => [b, 40]\n",
    "\n",
    "        new_out = torch.cat([out, new_rnn_h], dim=1)  # out => [b, 680]\n",
    "        result = self.fc(new_out)  # out => [b, 20]\n",
    "\n",
    "        # print(out.shape)\n",
    "\n",
    "        return result"
   ]
  },
  {
   "cell_type": "code",
   "execution_count": 5,
   "id": "8f14971d",
   "metadata": {
    "execution": {
     "iopub.execute_input": "2023-08-22T10:14:32.720898Z",
     "iopub.status.busy": "2023-08-22T10:14:32.720627Z",
     "iopub.status.idle": "2023-08-22T10:14:32.725104Z",
     "shell.execute_reply": "2023-08-22T10:14:32.724073Z"
    },
    "papermill": {
     "duration": 0.01178,
     "end_time": "2023-08-22T10:14:32.727362",
     "exception": false,
     "start_time": "2023-08-22T10:14:32.715582",
     "status": "completed"
    },
    "tags": []
   },
   "outputs": [],
   "source": [
    "trainset = ECG_Data(X_train, y_train_onehot)\n",
    "testset = ECG_Data(X_test, y_test_onehot)"
   ]
  },
  {
   "cell_type": "code",
   "execution_count": 6,
   "id": "36d001a7",
   "metadata": {
    "execution": {
     "iopub.execute_input": "2023-08-22T10:14:32.736940Z",
     "iopub.status.busy": "2023-08-22T10:14:32.736679Z",
     "iopub.status.idle": "2023-08-22T10:17:58.865844Z",
     "shell.execute_reply": "2023-08-22T10:17:58.864946Z"
    },
    "papermill": {
     "duration": 206.136429,
     "end_time": "2023-08-22T10:17:58.867934",
     "exception": false,
     "start_time": "2023-08-22T10:14:32.731505",
     "status": "completed"
    },
    "tags": []
   },
   "outputs": [
    {
     "name": "stderr",
     "output_type": "stream",
     "text": [
      "100%|██████████| 307/307 [00:22<00:00, 13.57it/s]\n",
      "100%|██████████| 34/34 [00:00<00:00, 59.64it/s]\n"
     ]
    },
    {
     "name": "stdout",
     "output_type": "stream",
     "text": [
      "Epoch 1:\n",
      "Train: accuracy = 0.34061958626312033, AUROC = 0.7579050136479861, F1 = 0.45619486504279133\n",
      "Test: accuracy = 0.3294983893235159, AUROC = 0.8127135453827057, F1 = 0.5390858607432721\n"
     ]
    },
    {
     "name": "stderr",
     "output_type": "stream",
     "text": [
      "100%|██████████| 307/307 [00:18<00:00, 16.92it/s]\n",
      "100%|██████████| 34/34 [00:00<00:00, 62.77it/s]\n"
     ]
    },
    {
     "name": "stdout",
     "output_type": "stream",
     "text": [
      "Epoch 2:\n",
      "Train: accuracy = 0.4529705492713747, AUROC = 0.8386654570453953, F1 = 0.6108600399164965\n",
      "Test: accuracy = 0.47215830648872525, AUROC = 0.853894059413966, F1 = 0.6165222903021339\n"
     ]
    },
    {
     "name": "stderr",
     "output_type": "stream",
     "text": [
      "100%|██████████| 307/307 [00:18<00:00, 16.60it/s]\n",
      "100%|██████████| 34/34 [00:00<00:00, 61.95it/s]\n"
     ]
    },
    {
     "name": "stdout",
     "output_type": "stream",
     "text": [
      "Epoch 3:\n",
      "Train: accuracy = 0.4992357077346377, AUROC = 0.8642429869709988, F1 = 0.6564283955315766\n",
      "Test: accuracy = 0.5080533824206167, AUROC = 0.8648777972906988, F1 = 0.6303947637553692\n"
     ]
    },
    {
     "name": "stderr",
     "output_type": "stream",
     "text": [
      "100%|██████████| 307/307 [00:18<00:00, 16.40it/s]\n",
      "100%|██████████| 34/34 [00:00<00:00, 60.26it/s]\n"
     ]
    },
    {
     "name": "stdout",
     "output_type": "stream",
     "text": [
      "Epoch 4:\n",
      "Train: accuracy = 0.5288392948130032, AUROC = 0.8794572586482922, F1 = 0.682693156732892\n",
      "Test: accuracy = 0.5301426599171652, AUROC = 0.8734355853586555, F1 = 0.6683989606236258\n"
     ]
    },
    {
     "name": "stderr",
     "output_type": "stream",
     "text": [
      "100%|██████████| 307/307 [00:19<00:00, 16.05it/s]\n",
      "100%|██████████| 34/34 [00:00<00:00, 59.61it/s]\n"
     ]
    },
    {
     "name": "stdout",
     "output_type": "stream",
     "text": [
      "Epoch 5:\n",
      "Train: accuracy = 0.5506980536023642, AUROC = 0.8893093235237561, F1 = 0.7018727412112583\n",
      "Test: accuracy = 0.4767602393005062, AUROC = 0.8786866427543666, F1 = 0.6558689024390244\n"
     ]
    },
    {
     "name": "stderr",
     "output_type": "stream",
     "text": [
      "100%|██████████| 307/307 [00:19<00:00, 15.74it/s]\n",
      "100%|██████████| 34/34 [00:00<00:00, 58.91it/s]\n"
     ]
    },
    {
     "name": "stdout",
     "output_type": "stream",
     "text": [
      "Epoch 6:\n",
      "Train: accuracy = 0.5654234179150107, AUROC = 0.8970249617560858, F1 = 0.7173837461973055\n",
      "Test: accuracy = 0.5540727105384261, AUROC = 0.8795009606755109, F1 = 0.6772892295280356\n"
     ]
    },
    {
     "name": "stderr",
     "output_type": "stream",
     "text": [
      "100%|██████████| 307/307 [00:19<00:00, 15.86it/s]\n",
      "100%|██████████| 34/34 [00:00<00:00, 60.26it/s]\n"
     ]
    },
    {
     "name": "stdout",
     "output_type": "stream",
     "text": [
      "Epoch 7:\n",
      "Train: accuracy = 0.579384489962295, AUROC = 0.9042037559128675, F1 = 0.7278079612112817\n",
      "Test: accuracy = 0.5591348366313852, AUROC = 0.8869165161656187, F1 = 0.6938373695609371\n"
     ]
    },
    {
     "name": "stderr",
     "output_type": "stream",
     "text": [
      "100%|██████████| 307/307 [00:19<00:00, 16.05it/s]\n",
      "100%|██████████| 34/34 [00:00<00:00, 60.06it/s]\n"
     ]
    },
    {
     "name": "stdout",
     "output_type": "stream",
     "text": [
      "Epoch 8:\n",
      "Train: accuracy = 0.589473147865077, AUROC = 0.9107234898923876, F1 = 0.7386145034043013\n",
      "Test: accuracy = 0.5494707777266452, AUROC = 0.887369758663057, F1 = 0.6902336728579987\n"
     ]
    },
    {
     "name": "stderr",
     "output_type": "stream",
     "text": [
      "100%|██████████| 307/307 [00:19<00:00, 16.14it/s]\n",
      "100%|██████████| 34/34 [00:00<00:00, 60.14it/s]\n"
     ]
    },
    {
     "name": "stdout",
     "output_type": "stream",
     "text": [
      "Epoch 9:\n",
      "Train: accuracy = 0.5983898909609702, AUROC = 0.9139326587317406, F1 = 0.7473278995247209\n",
      "Test: accuracy = 0.54348826507133, AUROC = 0.8870978669053603, F1 = 0.6961808854265628\n"
     ]
    },
    {
     "name": "stderr",
     "output_type": "stream",
     "text": [
      "100%|██████████| 307/307 [00:19<00:00, 15.98it/s]\n",
      "100%|██████████| 34/34 [00:00<00:00, 58.91it/s]"
     ]
    },
    {
     "name": "stdout",
     "output_type": "stream",
     "text": [
      "Epoch 10:\n",
      "Train: accuracy = 0.6086823601345155, AUROC = 0.9205257414155297, F1 = 0.755114719681227\n",
      "Test: accuracy = 0.5407271053842614, AUROC = 0.8870778871598031, F1 = 0.6903831118060986\n"
     ]
    },
    {
     "name": "stderr",
     "output_type": "stream",
     "text": [
      "\n"
     ]
    }
   ],
   "source": [
    "num_classes = 5\n",
    "model = ECGNet().float().to('cuda:0')\n",
    "train(model, trainset, testset, batch_size = 64,  epochs = 10, lr = 0.001, csv_name = \"CNN1D\")"
   ]
  },
  {
   "cell_type": "code",
   "execution_count": 7,
   "id": "5c0e0d1c",
   "metadata": {
    "execution": {
     "iopub.execute_input": "2023-08-22T10:17:59.130392Z",
     "iopub.status.busy": "2023-08-22T10:17:59.129970Z",
     "iopub.status.idle": "2023-08-22T10:17:59.539039Z",
     "shell.execute_reply": "2023-08-22T10:17:59.538103Z"
    },
    "papermill": {
     "duration": 0.544407,
     "end_time": "2023-08-22T10:17:59.541823",
     "exception": false,
     "start_time": "2023-08-22T10:17:58.997416",
     "status": "completed"
    },
    "tags": []
   },
   "outputs": [
    {
     "data": {
      "image/png": "[encoded data removed]",
      "text/plain": [
       "<Figure size 1000x600 with 1 Axes>"
      ]
     },
     "metadata": {},
     "output_type": "display_data"
    }
   ],
   "source": [
    "import pandas as pd\n",
    "import matplotlib.pyplot as plt\n",
    "\n",
    "CNN1D_Result = pd.read_csv(\"/kaggle/working/CNN1D.csv\", header = None)\n",
    "\n",
    "# Plotting all models together\n",
    "plt.figure(figsize=(10, 6))\n",
    "\n",
    "plt.plot(CNN1D_Result[0], label='Train Accuracy')\n",
    "plt.plot(CNN1D_Result[1], label='Train AUROC')\n",
    "plt.plot(CNN1D_Result[2], label='Train F1')\n",
    "plt.plot(CNN1D_Result[3], label='Test Accuracy')\n",
    "plt.plot(CNN1D_Result[4], label='Test AUROC')\n",
    "plt.plot(CNN1D_Result[5], label='Test F1')\n",
    "\n",
    "plt.title('CNN1D')\n",
    "plt.xlabel('Epoch')\n",
    "plt.ylabel('%')\n",
    "plt.legend()\n",
    "plt.grid(True)\n",
    "plt.show()\n"
   ]
  },
  {
   "cell_type": "code",
   "execution_count": 8,
   "id": "e976491b",
   "metadata": {
    "execution": {
     "iopub.execute_input": "2023-08-22T10:17:59.811237Z",
     "iopub.status.busy": "2023-08-22T10:17:59.810849Z",
     "iopub.status.idle": "2023-08-22T10:18:00.235445Z",
     "shell.execute_reply": "2023-08-22T10:18:00.234470Z"
    },
    "papermill": {
     "duration": 0.558143,
     "end_time": "2023-08-22T10:18:00.237897",
     "exception": false,
     "start_time": "2023-08-22T10:17:59.679754",
     "status": "completed"
    },
    "tags": []
   },
   "outputs": [],
   "source": [
    "import torchvision.models as models\n",
    "from torchvision.models import ResNet18_Weights\n",
    "class ResNet(nn.Module):\n",
    "    def __init__(self, in_channels=1, num_classes=5, pretrained = False, freeze = False):\n",
    "        super(ResNet, self).__init__()\n",
    "        if pretrained:\n",
    "            self.model = models.resnet18(weights=ResNet18_Weights.IMAGENET1K_V1)\n",
    "        else:\n",
    "            self.model = models.resnet18(weights = None)\n",
    "        self.model.conv1 = nn.Conv2d(in_channels, 64, kernel_size=7, stride=2, padding=3, bias=False)\n",
    "        num_ftrs = self.model.fc.in_features\n",
    "        self.model.fc = nn.Linear(num_ftrs, num_classes)\n",
    "\n",
    "        if freeze:\n",
    "            for param in self.model.parameters():\n",
    "                param.requires_grad = False\n",
    "            for param in self.model.fc.parameters():\n",
    "                param.requires_grad = True\n",
    "\n",
    "\n",
    "    def forward(self, x):\n",
    "        return self.model(x)"
   ]
  },
  {
   "cell_type": "code",
   "execution_count": 9,
   "id": "a85d2737",
   "metadata": {
    "execution": {
     "iopub.execute_input": "2023-08-22T10:18:00.500868Z",
     "iopub.status.busy": "2023-08-22T10:18:00.500516Z",
     "iopub.status.idle": "2023-08-22T10:18:00.505137Z",
     "shell.execute_reply": "2023-08-22T10:18:00.504249Z"
    },
    "papermill": {
     "duration": 0.138616,
     "end_time": "2023-08-22T10:18:00.507055",
     "exception": false,
     "start_time": "2023-08-22T10:18:00.368439",
     "status": "completed"
    },
    "tags": []
   },
   "outputs": [],
   "source": [
    "trainset = ECG_Data(X_train, y_train_onehot, mode = '2d')\n",
    "testset = ECG_Data(X_test, y_test_onehot, mode = '2d')"
   ]
  },
  {
   "cell_type": "code",
   "execution_count": 10,
   "id": "968d19c1",
   "metadata": {
    "execution": {
     "iopub.execute_input": "2023-08-22T10:18:00.771280Z",
     "iopub.status.busy": "2023-08-22T10:18:00.770288Z",
     "iopub.status.idle": "2023-08-22T10:22:52.604789Z",
     "shell.execute_reply": "2023-08-22T10:22:52.603750Z"
    },
    "papermill": {
     "duration": 291.970614,
     "end_time": "2023-08-22T10:22:52.607421",
     "exception": false,
     "start_time": "2023-08-22T10:18:00.636807",
     "status": "completed"
    },
    "tags": []
   },
   "outputs": [
    {
     "name": "stderr",
     "output_type": "stream",
     "text": [
      "100%|██████████| 307/307 [00:28<00:00, 10.91it/s]\n",
      "100%|██████████| 34/34 [00:01<00:00, 33.83it/s]\n"
     ]
    },
    {
     "name": "stdout",
     "output_type": "stream",
     "text": [
      "Epoch 1:\n",
      "Train: accuracy = 0.37903801080199734, AUROC = 0.7877367747407563, F1 = 0.5221393275845363\n",
      "Test: accuracy = 0.40266912103083297, AUROC = 0.8370006417410117, F1 = 0.5982023331420921\n"
     ]
    },
    {
     "name": "stderr",
     "output_type": "stream",
     "text": [
      "100%|██████████| 307/307 [00:28<00:00, 10.94it/s]\n",
      "100%|██████████| 34/34 [00:01<00:00, 33.91it/s]\n"
     ]
    },
    {
     "name": "stdout",
     "output_type": "stream",
     "text": [
      "Epoch 2:\n",
      "Train: accuracy = 0.4507286252929787, AUROC = 0.8418638864347002, F1 = 0.6169233573316322\n",
      "Test: accuracy = 0.446387482742752, AUROC = 0.8578820902839664, F1 = 0.6120152702431184\n"
     ]
    },
    {
     "name": "stderr",
     "output_type": "stream",
     "text": [
      "100%|██████████| 307/307 [00:28<00:00, 10.94it/s]\n",
      "100%|██████████| 34/34 [00:00<00:00, 34.15it/s]\n"
     ]
    },
    {
     "name": "stdout",
     "output_type": "stream",
     "text": [
      "Epoch 3:\n",
      "Train: accuracy = 0.4906246815448894, AUROC = 0.861474471175519, F1 = 0.6518070941031665\n",
      "Test: accuracy = 0.5039116428900138, AUROC = 0.8686118909079761, F1 = 0.6678141135972462\n"
     ]
    },
    {
     "name": "stderr",
     "output_type": "stream",
     "text": [
      "100%|██████████| 307/307 [00:28<00:00, 10.96it/s]\n",
      "100%|██████████| 34/34 [00:01<00:00, 33.99it/s]\n"
     ]
    },
    {
     "name": "stdout",
     "output_type": "stream",
     "text": [
      "Epoch 4:\n",
      "Train: accuracy = 0.513757260776521, AUROC = 0.8766553447702788, F1 = 0.6767754572063646\n",
      "Test: accuracy = 0.5296824666359871, AUROC = 0.8703838175926151, F1 = 0.6713203031511766\n"
     ]
    },
    {
     "name": "stderr",
     "output_type": "stream",
     "text": [
      "100%|██████████| 307/307 [00:28<00:00, 10.95it/s]\n",
      "100%|██████████| 34/34 [00:00<00:00, 34.05it/s]\n"
     ]
    },
    {
     "name": "stdout",
     "output_type": "stream",
     "text": [
      "Epoch 5:\n",
      "Train: accuracy = 0.5378069907265872, AUROC = 0.8871774209454841, F1 = 0.6989583105850494\n",
      "Test: accuracy = 0.5112747353888634, AUROC = 0.8650361629697574, F1 = 0.660832360949047\n"
     ]
    },
    {
     "name": "stderr",
     "output_type": "stream",
     "text": [
      "100%|██████████| 307/307 [00:28<00:00, 10.96it/s]\n",
      "100%|██████████| 34/34 [00:00<00:00, 34.18it/s]\n"
     ]
    },
    {
     "name": "stdout",
     "output_type": "stream",
     "text": [
      "Epoch 6:\n",
      "Train: accuracy = 0.5536023642107408, AUROC = 0.8948480735202334, F1 = 0.711914486834101\n",
      "Test: accuracy = 0.5181776346065348, AUROC = 0.8788011793370721, F1 = 0.6879323597232897\n"
     ]
    },
    {
     "name": "stderr",
     "output_type": "stream",
     "text": [
      "100%|██████████| 307/307 [00:28<00:00, 10.95it/s]\n",
      "100%|██████████| 34/34 [00:01<00:00, 33.19it/s]\n"
     ]
    },
    {
     "name": "stdout",
     "output_type": "stream",
     "text": [
      "Epoch 7:\n",
      "Train: accuracy = 0.5659329460919189, AUROC = 0.9019762945921043, F1 = 0.7260359757282603\n",
      "Test: accuracy = 0.5526921306948919, AUROC = 0.8798148689228882, F1 = 0.678060413354531\n"
     ]
    },
    {
     "name": "stderr",
     "output_type": "stream",
     "text": [
      "100%|██████████| 307/307 [00:28<00:00, 10.93it/s]\n",
      "100%|██████████| 34/34 [00:00<00:00, 34.09it/s]\n"
     ]
    },
    {
     "name": "stdout",
     "output_type": "stream",
     "text": [
      "Epoch 8:\n",
      "Train: accuracy = 0.5747477835524305, AUROC = 0.909272846234624, F1 = 0.7340779009196338\n",
      "Test: accuracy = 0.5517717441325357, AUROC = 0.8750182903279343, F1 = 0.675\n"
     ]
    },
    {
     "name": "stderr",
     "output_type": "stream",
     "text": [
      "100%|██████████| 307/307 [00:28<00:00, 10.96it/s]\n",
      "100%|██████████| 34/34 [00:00<00:00, 34.00it/s]\n"
     ]
    },
    {
     "name": "stdout",
     "output_type": "stream",
     "text": [
      "Epoch 9:\n",
      "Train: accuracy = 0.5940079486395597, AUROC = 0.9161751133437643, F1 = 0.7511674735444068\n",
      "Test: accuracy = 0.5163368614818223, AUROC = 0.8811999246373565, F1 = 0.6790293943578616\n"
     ]
    },
    {
     "name": "stderr",
     "output_type": "stream",
     "text": [
      "100%|██████████| 307/307 [00:28<00:00, 10.94it/s]\n",
      "100%|██████████| 34/34 [00:00<00:00, 34.13it/s]\n"
     ]
    },
    {
     "name": "stdout",
     "output_type": "stream",
     "text": [
      "Epoch 10:\n",
      "Train: accuracy = 0.6044532762661775, AUROC = 0.92369434399067, F1 = 0.7612922460974934\n",
      "Test: accuracy = 0.4965485503911643, AUROC = 0.877690266269543, F1 = 0.6771741145929908\n"
     ]
    }
   ],
   "source": [
    "model = ResNet(in_channels = 12).float().to('cuda:0')\n",
    "train(model, trainset, testset, batch_size = 64,  epochs = 10, lr = 0.001, csv_name = \"ResNet18\")"
   ]
  },
  {
   "cell_type": "code",
   "execution_count": 11,
   "id": "3dcd83ad",
   "metadata": {
    "execution": {
     "iopub.execute_input": "2023-08-22T10:22:53.144154Z",
     "iopub.status.busy": "2023-08-22T10:22:53.143457Z",
     "iopub.status.idle": "2023-08-22T10:22:53.519509Z",
     "shell.execute_reply": "2023-08-22T10:22:53.518548Z"
    },
    "papermill": {
     "duration": 0.63451,
     "end_time": "2023-08-22T10:22:53.522039",
     "exception": false,
     "start_time": "2023-08-22T10:22:52.887529",
     "status": "completed"
    },
    "tags": []
   },
   "outputs": [
    {
     "data": {
      "image/png": "[encoded data removed]",
      "text/plain": [
       "<Figure size 1000x600 with 1 Axes>"
      ]
     },
     "metadata": {},
     "output_type": "display_data"
    }
   ],
   "source": [
    "import pandas as pd\n",
    "import matplotlib.pyplot as plt\n",
    "\n",
    "ResNet_Result = pd.read_csv(\"/kaggle/working/ResNet18.csv\", header = None)\n",
    "\n",
    "# Plotting all models together\n",
    "plt.figure(figsize=(10, 6))\n",
    "\n",
    "plt.plot(ResNet_Result[0], label='Train Accuracy')\n",
    "plt.plot(ResNet_Result[1], label='Train AUROC')\n",
    "plt.plot(ResNet_Result[2], label='Train F1')\n",
    "plt.plot(ResNet_Result[3], label='Test Accuracy')\n",
    "plt.plot(ResNet_Result[4], label='Test AUROC')\n",
    "plt.plot(ResNet_Result[5], label='Test F1')\n",
    "\n",
    "plt.title('ResNet18')\n",
    "plt.xlabel('Epoch')\n",
    "plt.ylabel('%')\n",
    "plt.legend()\n",
    "plt.grid(True)\n",
    "plt.show()"
   ]
  },
  {
   "cell_type": "markdown",
   "id": "3f824bf0",
   "metadata": {
    "papermill": {
     "duration": 0.254471,
     "end_time": "2023-08-22T10:22:54.043595",
     "exception": false,
     "start_time": "2023-08-22T10:22:53.789124",
     "status": "completed"
    },
    "tags": []
   },
   "source": [
    "### Result\n",
    "* CNN1D: 使用了Capstone Project要用的Model ECGNet(結合1dCNN, ResNet 與 LSTM)，但表現比預期的差，需要研究如何將其應用於PTB-XL資料\n",
    "* ResNet: Test的AUROC卡在87上下，表現略差於ECGNet"
   ]
  }
 ],
 "metadata": {
  "kernelspec": {
   "display_name": "Python 3",
   "language": "python",
   "name": "python3"
  },
  "language_info": {
   "codemirror_mode": {
    "name": "ipython",
    "version": 3
   },
   "file_extension": ".py",
   "mimetype": "text/x-python",
   "name": "python",
   "nbconvert_exporter": "python",
   "pygments_lexer": "ipython3",
   "version": "3.10.12"
  },
  "papermill": {
   "default_parameters": {},
   "duration": 538.047225,
   "end_time": "2023-08-22T10:22:57.354917",
   "environment_variables": {},
   "exception": null,
   "input_path": "__notebook__.ipynb",
   "output_path": "__notebook__.ipynb",
   "parameters": {},
   "start_time": "2023-08-22T10:13:59.307692",
   "version": "2.4.0"
  }
 },
 "nbformat": 4,
 "nbformat_minor": 5
}
