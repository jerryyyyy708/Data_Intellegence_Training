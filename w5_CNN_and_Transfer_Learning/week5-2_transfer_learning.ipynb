{
 "cells": [
  {
   "cell_type": "markdown",
   "id": "8027c138",
   "metadata": {
    "papermill": {
     "duration": 0.005233,
     "end_time": "2023-08-22T06:28:38.403893",
     "exception": false,
     "start_time": "2023-08-22T06:28:38.398660",
     "status": "completed"
    },
    "tags": []
   },
   "source": [
    "若將圖片Resize成 (224, 224)，會造成Kaggle CPU不足，因此忍痛將Resize移除。"
   ]
  },
  {
   "cell_type": "code",
   "execution_count": 1,
   "id": "baa85f8b",
   "metadata": {
    "execution": {
     "iopub.execute_input": "2023-08-22T06:28:38.411760Z",
     "iopub.status.busy": "2023-08-22T06:28:38.411402Z",
     "iopub.status.idle": "2023-08-22T06:28:44.733704Z",
     "shell.execute_reply": "2023-08-22T06:28:44.732615Z"
    },
    "papermill": {
     "duration": 6.329145,
     "end_time": "2023-08-22T06:28:44.736239",
     "exception": false,
     "start_time": "2023-08-22T06:28:38.407094",
     "status": "completed"
    },
    "tags": []
   },
   "outputs": [],
   "source": [
    "import torch\n",
    "import torch.nn as nn\n",
    "import torchvision.models as models\n",
    "from torchvision.models import ResNet18_Weights\n",
    "import numpy as np\n",
    "from torch.utils.data import TensorDataset, DataLoader\n",
    "from tqdm import tqdm\n",
    "import torch.optim as optim\n",
    "from torchvision import transforms\n",
    "from torch.utils import data\n",
    "\n",
    "if torch.cuda.is_available():  \n",
    "    torch.cuda.empty_cache()\n",
    "    dev = \"cuda:0\" \n",
    "else:  \n",
    "    dev = \"cpu\"\n",
    "\n",
    "class ResNet(nn.Module):\n",
    "    def __init__(self, num_classes=10, pretrained = True, freeze = False):\n",
    "        super(ResNet, self).__init__()\n",
    "        if pretrained:\n",
    "            self.model = models.resnet18(weights=ResNet18_Weights.IMAGENET1K_V1)\n",
    "        else:\n",
    "            self.model = models.resnet18(weights = None)\n",
    "        num_ftrs = self.model.fc.in_features\n",
    "        self.model.fc = nn.Linear(num_ftrs, num_classes)\n",
    "\n",
    "        if freeze:\n",
    "            for param in self.model.parameters():\n",
    "                param.requires_grad = False\n",
    "            for param in self.model.fc.parameters():\n",
    "                param.requires_grad = True\n",
    "\n",
    "\n",
    "    def forward(self, x):\n",
    "        return self.model(x)\n",
    "\n",
    "class CIFAR10(data.Dataset):\n",
    "    def __init__(self, x, y, transform = True):\n",
    "        self.x = x\n",
    "        self.y = y\n",
    "        if transform:\n",
    "            self.transform = transforms.Compose([\n",
    "                transforms.ToTensor(),\n",
    "                #transforms.Resize((224, 224), antialias=True),\n",
    "                transforms.RandomHorizontalFlip(p = 0.5),\n",
    "                transforms.RandomVerticalFlip(p = 0.5),\n",
    "                transforms.Normalize((0.5, 0.5, 0.5), (0.5, 0.5, 0.5)) \n",
    "            ])\n",
    "        else:\n",
    "            self.transform = transforms.Compose([\n",
    "                transforms.ToTensor(),\n",
    "                #transforms.Resize((224, 224), antialias=True),\n",
    "                transforms.Normalize((0.5, 0.5, 0.5), (0.5, 0.5, 0.5)) \n",
    "            ])\n",
    "            \n",
    "    def __len__(self):\n",
    "        return len(self.x)\n",
    "    \n",
    "    def __getitem__(self, index):\n",
    "        img = self.x[index]\n",
    "        img = self.transform(img)\n",
    "        label = torch.from_numpy(self.y[index]).float()\n",
    "        return img, label\n",
    "        "
   ]
  },
  {
   "cell_type": "code",
   "execution_count": 2,
   "id": "99662f05",
   "metadata": {
    "execution": {
     "iopub.execute_input": "2023-08-22T06:28:44.744838Z",
     "iopub.status.busy": "2023-08-22T06:28:44.743930Z",
     "iopub.status.idle": "2023-08-22T06:28:44.757894Z",
     "shell.execute_reply": "2023-08-22T06:28:44.757057Z"
    },
    "papermill": {
     "duration": 0.020029,
     "end_time": "2023-08-22T06:28:44.759801",
     "exception": false,
     "start_time": "2023-08-22T06:28:44.739772",
     "status": "completed"
    },
    "tags": []
   },
   "outputs": [],
   "source": [
    "import csv\n",
    "\n",
    "def SaveCsvForPlot(filename, train_result, test_result):\n",
    "    data = [(train_acc, test_acc) for train_acc, test_acc in zip(train_result, test_result)]\n",
    "    with open(filename, \"w\", newline=\"\") as csvfile:\n",
    "        writer = csv.writer(csvfile)\n",
    "        writer.writerows(data)\n",
    "\n",
    "def train(model, train_set, test_set, batch_size, epochs, lr, csv_name = \"report\"):\n",
    "    train_loader = DataLoader(train_set, batch_size = batch_size, shuffle = True)\n",
    "    test_loader = DataLoader(test_set, batch_size = batch_size)\n",
    "    loss_function = nn.CrossEntropyLoss()\n",
    "    optimizer = optim.Adam(model.parameters(), lr=lr)\n",
    "\n",
    "    train_accuracy_plot = []\n",
    "    test_accuracy_plot = []\n",
    "\n",
    "    for epoch in range(epochs):\n",
    "        model.train()\n",
    "        train_loss=0\n",
    "        train_accuracy=0.0\n",
    "        for x, y in tqdm(train_loader):\n",
    "            x, y = x.to(dev).float(), y.to(dev).to(torch.int64)\n",
    "            optimizer.zero_grad()\n",
    "            output=model(x).float()\n",
    "            y = y.squeeze()\n",
    "            loss=loss_function(output,y)\n",
    "            loss.backward()\n",
    "            train_loss+=loss\n",
    "            optimizer.step()\n",
    "            _,preds = torch.max(output.data,1)\n",
    "            train_accuracy+=int(torch.sum(preds==y.data))\n",
    "            \n",
    "        model.eval()\n",
    "        test_loss=0\n",
    "        test_accuracy=0.0\n",
    "        with torch.no_grad():\n",
    "            for x, y in tqdm(test_loader):\n",
    "                x, y = x.to(dev).float(), y.to(dev).to(torch.int64)\n",
    "                output=model(x).float()\n",
    "                y = y.squeeze()\n",
    "                loss=loss_function(output,y)\n",
    "                test_loss+=loss\n",
    "                _,preds = torch.max(output.data,1)\n",
    "                test_accuracy+=int(torch.sum(preds==y.data))\n",
    "\n",
    "        print(f\"Epoch {epoch+1}: train accuracy = {train_accuracy/len(train_set)}, test accuracy = {test_accuracy/len(test_set)}\")    \n",
    "        train_accuracy_plot.append(train_accuracy/len(train_set))\n",
    "        test_accuracy_plot.append(test_accuracy/len(test_set)) \n",
    "        SaveCsvForPlot(f'{csv_name}.csv',train_accuracy_plot, test_accuracy_plot)"
   ]
  },
  {
   "cell_type": "code",
   "execution_count": 3,
   "id": "75370612",
   "metadata": {
    "execution": {
     "iopub.execute_input": "2023-08-22T06:28:44.767436Z",
     "iopub.status.busy": "2023-08-22T06:28:44.766928Z",
     "iopub.status.idle": "2023-08-22T06:28:47.487929Z",
     "shell.execute_reply": "2023-08-22T06:28:47.486952Z"
    },
    "papermill": {
     "duration": 2.72729,
     "end_time": "2023-08-22T06:28:47.490323",
     "exception": false,
     "start_time": "2023-08-22T06:28:44.763033",
     "status": "completed"
    },
    "tags": []
   },
   "outputs": [],
   "source": [
    "train_x, train_y, test_x, test_y =np.load('/kaggle/input/cifar-10/x_train.npy'), np.load('/kaggle/input/cifar-10/y_train.npy'), np.load('/kaggle/input/cifar-10/x_test.npy'), np.load('/kaggle/input/cifar-10/y_test.npy')\n"
   ]
  },
  {
   "cell_type": "code",
   "execution_count": 4,
   "id": "ebb383a8",
   "metadata": {
    "execution": {
     "iopub.execute_input": "2023-08-22T06:28:47.499857Z",
     "iopub.status.busy": "2023-08-22T06:28:47.498300Z",
     "iopub.status.idle": "2023-08-22T07:27:15.495335Z",
     "shell.execute_reply": "2023-08-22T07:27:15.494320Z"
    },
    "papermill": {
     "duration": 3508.004293,
     "end_time": "2023-08-22T07:27:15.498244",
     "exception": false,
     "start_time": "2023-08-22T06:28:47.493951",
     "status": "completed"
    },
    "tags": []
   },
   "outputs": [
    {
     "name": "stderr",
     "output_type": "stream",
     "text": [
      "Downloading: \"https://download.pytorch.org/models/resnet18-f37072fd.pth\" to /root/.cache/torch/hub/checkpoints/resnet18-f37072fd.pth\n",
      "100%|██████████| 44.7M/44.7M [00:00<00:00, 181MB/s]\n",
      "100%|██████████| 12500/12500 [02:54<00:00, 71.71it/s]\n",
      "100%|██████████| 2500/2500 [00:09<00:00, 261.51it/s]\n"
     ]
    },
    {
     "name": "stdout",
     "output_type": "stream",
     "text": [
      "Epoch 1: train accuracy = 0.3935, test accuracy = 0.5654\n"
     ]
    },
    {
     "name": "stderr",
     "output_type": "stream",
     "text": [
      "100%|██████████| 12500/12500 [02:43<00:00, 76.65it/s]\n",
      "100%|██████████| 2500/2500 [00:09<00:00, 252.32it/s]\n"
     ]
    },
    {
     "name": "stdout",
     "output_type": "stream",
     "text": [
      "Epoch 2: train accuracy = 0.5113, test accuracy = 0.5798\n"
     ]
    },
    {
     "name": "stderr",
     "output_type": "stream",
     "text": [
      "100%|██████████| 12500/12500 [02:43<00:00, 76.42it/s]\n",
      "100%|██████████| 2500/2500 [00:09<00:00, 261.88it/s]\n"
     ]
    },
    {
     "name": "stdout",
     "output_type": "stream",
     "text": [
      "Epoch 3: train accuracy = 0.5846, test accuracy = 0.6616\n"
     ]
    },
    {
     "name": "stderr",
     "output_type": "stream",
     "text": [
      "100%|██████████| 12500/12500 [02:43<00:00, 76.60it/s]\n",
      "100%|██████████| 2500/2500 [00:09<00:00, 257.53it/s]\n"
     ]
    },
    {
     "name": "stdout",
     "output_type": "stream",
     "text": [
      "Epoch 4: train accuracy = 0.62142, test accuracy = 0.6547\n"
     ]
    },
    {
     "name": "stderr",
     "output_type": "stream",
     "text": [
      "100%|██████████| 12500/12500 [02:43<00:00, 76.35it/s]\n",
      "100%|██████████| 2500/2500 [00:09<00:00, 261.71it/s]\n"
     ]
    },
    {
     "name": "stdout",
     "output_type": "stream",
     "text": [
      "Epoch 5: train accuracy = 0.6525, test accuracy = 0.683\n"
     ]
    },
    {
     "name": "stderr",
     "output_type": "stream",
     "text": [
      "100%|██████████| 12500/12500 [02:44<00:00, 76.20it/s]\n",
      "100%|██████████| 2500/2500 [00:09<00:00, 257.44it/s]\n"
     ]
    },
    {
     "name": "stdout",
     "output_type": "stream",
     "text": [
      "Epoch 6: train accuracy = 0.6742, test accuracy = 0.6802\n"
     ]
    },
    {
     "name": "stderr",
     "output_type": "stream",
     "text": [
      "100%|██████████| 12500/12500 [02:43<00:00, 76.53it/s]\n",
      "100%|██████████| 2500/2500 [00:09<00:00, 253.01it/s]\n"
     ]
    },
    {
     "name": "stdout",
     "output_type": "stream",
     "text": [
      "Epoch 7: train accuracy = 0.6959, test accuracy = 0.7322\n"
     ]
    },
    {
     "name": "stderr",
     "output_type": "stream",
     "text": [
      "100%|██████████| 12500/12500 [02:42<00:00, 76.89it/s]\n",
      "100%|██████████| 2500/2500 [00:09<00:00, 267.28it/s]\n"
     ]
    },
    {
     "name": "stdout",
     "output_type": "stream",
     "text": [
      "Epoch 8: train accuracy = 0.70632, test accuracy = 0.7196\n"
     ]
    },
    {
     "name": "stderr",
     "output_type": "stream",
     "text": [
      "100%|██████████| 12500/12500 [02:43<00:00, 76.61it/s]\n",
      "100%|██████████| 2500/2500 [00:09<00:00, 253.96it/s]\n"
     ]
    },
    {
     "name": "stdout",
     "output_type": "stream",
     "text": [
      "Epoch 9: train accuracy = 0.71888, test accuracy = 0.7228\n"
     ]
    },
    {
     "name": "stderr",
     "output_type": "stream",
     "text": [
      "100%|██████████| 12500/12500 [02:42<00:00, 76.77it/s]\n",
      "100%|██████████| 2500/2500 [00:09<00:00, 264.45it/s]\n"
     ]
    },
    {
     "name": "stdout",
     "output_type": "stream",
     "text": [
      "Epoch 10: train accuracy = 0.73172, test accuracy = 0.7397\n"
     ]
    },
    {
     "name": "stderr",
     "output_type": "stream",
     "text": [
      "100%|██████████| 12500/12500 [02:43<00:00, 76.45it/s]\n",
      "100%|██████████| 2500/2500 [00:09<00:00, 250.39it/s]\n"
     ]
    },
    {
     "name": "stdout",
     "output_type": "stream",
     "text": [
      "Epoch 11: train accuracy = 0.74066, test accuracy = 0.7466\n"
     ]
    },
    {
     "name": "stderr",
     "output_type": "stream",
     "text": [
      "100%|██████████| 12500/12500 [02:43<00:00, 76.34it/s]\n",
      "100%|██████████| 2500/2500 [00:09<00:00, 263.67it/s]\n"
     ]
    },
    {
     "name": "stdout",
     "output_type": "stream",
     "text": [
      "Epoch 12: train accuracy = 0.75264, test accuracy = 0.7222\n"
     ]
    },
    {
     "name": "stderr",
     "output_type": "stream",
     "text": [
      "100%|██████████| 12500/12500 [02:44<00:00, 76.19it/s]\n",
      "100%|██████████| 2500/2500 [00:09<00:00, 265.09it/s]\n"
     ]
    },
    {
     "name": "stdout",
     "output_type": "stream",
     "text": [
      "Epoch 13: train accuracy = 0.75624, test accuracy = 0.7272\n"
     ]
    },
    {
     "name": "stderr",
     "output_type": "stream",
     "text": [
      "100%|██████████| 12500/12500 [02:43<00:00, 76.30it/s]\n",
      "100%|██████████| 2500/2500 [00:10<00:00, 248.43it/s]\n"
     ]
    },
    {
     "name": "stdout",
     "output_type": "stream",
     "text": [
      "Epoch 14: train accuracy = 0.76592, test accuracy = 0.7583\n"
     ]
    },
    {
     "name": "stderr",
     "output_type": "stream",
     "text": [
      "100%|██████████| 12500/12500 [02:44<00:00, 75.97it/s]\n",
      "100%|██████████| 2500/2500 [00:09<00:00, 263.50it/s]\n"
     ]
    },
    {
     "name": "stdout",
     "output_type": "stream",
     "text": [
      "Epoch 15: train accuracy = 0.77282, test accuracy = 0.7322\n"
     ]
    },
    {
     "name": "stderr",
     "output_type": "stream",
     "text": [
      "100%|██████████| 12500/12500 [02:45<00:00, 75.56it/s]\n",
      "100%|██████████| 2500/2500 [00:09<00:00, 264.06it/s]\n"
     ]
    },
    {
     "name": "stdout",
     "output_type": "stream",
     "text": [
      "Epoch 16: train accuracy = 0.78106, test accuracy = 0.7494\n"
     ]
    },
    {
     "name": "stderr",
     "output_type": "stream",
     "text": [
      "100%|██████████| 12500/12500 [02:45<00:00, 75.56it/s]\n",
      "100%|██████████| 2500/2500 [00:10<00:00, 241.61it/s]\n"
     ]
    },
    {
     "name": "stdout",
     "output_type": "stream",
     "text": [
      "Epoch 17: train accuracy = 0.78668, test accuracy = 0.7604\n"
     ]
    },
    {
     "name": "stderr",
     "output_type": "stream",
     "text": [
      "100%|██████████| 12500/12500 [02:44<00:00, 75.83it/s]\n",
      "100%|██████████| 2500/2500 [00:09<00:00, 256.01it/s]\n"
     ]
    },
    {
     "name": "stdout",
     "output_type": "stream",
     "text": [
      "Epoch 18: train accuracy = 0.79232, test accuracy = 0.7775\n"
     ]
    },
    {
     "name": "stderr",
     "output_type": "stream",
     "text": [
      "100%|██████████| 12500/12500 [02:45<00:00, 75.68it/s]\n",
      "100%|██████████| 2500/2500 [00:09<00:00, 265.54it/s]\n"
     ]
    },
    {
     "name": "stdout",
     "output_type": "stream",
     "text": [
      "Epoch 19: train accuracy = 0.79808, test accuracy = 0.7738\n"
     ]
    },
    {
     "name": "stderr",
     "output_type": "stream",
     "text": [
      "100%|██████████| 12500/12500 [02:46<00:00, 75.02it/s]\n",
      "100%|██████████| 2500/2500 [00:09<00:00, 253.36it/s]\n"
     ]
    },
    {
     "name": "stdout",
     "output_type": "stream",
     "text": [
      "Epoch 20: train accuracy = 0.80256, test accuracy = 0.7571\n"
     ]
    }
   ],
   "source": [
    "train_set = CIFAR10(train_x, train_y)\n",
    "test_set = CIFAR10(test_x, test_y, False)\n",
    "\n",
    "model = ResNet().to(dev)\n",
    "batch_size = 4\n",
    "epochs = 20\n",
    "lr = 1e-4\n",
    "csv_name = \"Pretrained_ResNet18\"\n",
    "\n",
    "train(model, train_set, test_set, batch_size, epochs, lr, csv_name)"
   ]
  },
  {
   "cell_type": "code",
   "execution_count": 5,
   "id": "9ab337ee",
   "metadata": {
    "execution": {
     "iopub.execute_input": "2023-08-22T07:27:20.768409Z",
     "iopub.status.busy": "2023-08-22T07:27:20.768020Z",
     "iopub.status.idle": "2023-08-22T08:26:40.370222Z",
     "shell.execute_reply": "2023-08-22T08:26:40.369157Z"
    },
    "papermill": {
     "duration": 3562.616301,
     "end_time": "2023-08-22T08:26:40.681427",
     "exception": false,
     "start_time": "2023-08-22T07:27:18.065126",
     "status": "completed"
    },
    "tags": []
   },
   "outputs": [
    {
     "name": "stderr",
     "output_type": "stream",
     "text": [
      "100%|██████████| 12500/12500 [02:44<00:00, 75.86it/s]\n",
      "100%|██████████| 2500/2500 [00:10<00:00, 236.71it/s]\n"
     ]
    },
    {
     "name": "stdout",
     "output_type": "stream",
     "text": [
      "Epoch 1: train accuracy = 0.29086, test accuracy = 0.439\n"
     ]
    },
    {
     "name": "stderr",
     "output_type": "stream",
     "text": [
      "100%|██████████| 12500/12500 [02:46<00:00, 74.88it/s]\n",
      "100%|██████████| 2500/2500 [00:09<00:00, 261.76it/s]\n"
     ]
    },
    {
     "name": "stdout",
     "output_type": "stream",
     "text": [
      "Epoch 2: train accuracy = 0.42788, test accuracy = 0.5435\n"
     ]
    },
    {
     "name": "stderr",
     "output_type": "stream",
     "text": [
      "100%|██████████| 12500/12500 [02:46<00:00, 74.89it/s]\n",
      "100%|██████████| 2500/2500 [00:09<00:00, 255.04it/s]\n"
     ]
    },
    {
     "name": "stdout",
     "output_type": "stream",
     "text": [
      "Epoch 3: train accuracy = 0.5122, test accuracy = 0.603\n"
     ]
    },
    {
     "name": "stderr",
     "output_type": "stream",
     "text": [
      "100%|██████████| 12500/12500 [02:47<00:00, 74.81it/s]\n",
      "100%|██████████| 2500/2500 [00:09<00:00, 266.80it/s]\n"
     ]
    },
    {
     "name": "stdout",
     "output_type": "stream",
     "text": [
      "Epoch 4: train accuracy = 0.5567, test accuracy = 0.6001\n"
     ]
    },
    {
     "name": "stderr",
     "output_type": "stream",
     "text": [
      "100%|██████████| 12500/12500 [02:47<00:00, 74.68it/s]\n",
      "100%|██████████| 2500/2500 [00:09<00:00, 257.65it/s]\n"
     ]
    },
    {
     "name": "stdout",
     "output_type": "stream",
     "text": [
      "Epoch 5: train accuracy = 0.5923, test accuracy = 0.6276\n"
     ]
    },
    {
     "name": "stderr",
     "output_type": "stream",
     "text": [
      "100%|██████████| 12500/12500 [02:47<00:00, 74.78it/s]\n",
      "100%|██████████| 2500/2500 [00:09<00:00, 263.74it/s]\n"
     ]
    },
    {
     "name": "stdout",
     "output_type": "stream",
     "text": [
      "Epoch 6: train accuracy = 0.61338, test accuracy = 0.6308\n"
     ]
    },
    {
     "name": "stderr",
     "output_type": "stream",
     "text": [
      "100%|██████████| 12500/12500 [02:47<00:00, 74.41it/s]\n",
      "100%|██████████| 2500/2500 [00:10<00:00, 241.90it/s]\n"
     ]
    },
    {
     "name": "stdout",
     "output_type": "stream",
     "text": [
      "Epoch 7: train accuracy = 0.63998, test accuracy = 0.6672\n"
     ]
    },
    {
     "name": "stderr",
     "output_type": "stream",
     "text": [
      "100%|██████████| 12500/12500 [02:46<00:00, 75.10it/s]\n",
      "100%|██████████| 2500/2500 [00:11<00:00, 214.60it/s]\n"
     ]
    },
    {
     "name": "stdout",
     "output_type": "stream",
     "text": [
      "Epoch 8: train accuracy = 0.6563, test accuracy = 0.677\n"
     ]
    },
    {
     "name": "stderr",
     "output_type": "stream",
     "text": [
      "100%|██████████| 12500/12500 [02:46<00:00, 75.18it/s]\n",
      "100%|██████████| 2500/2500 [00:10<00:00, 230.18it/s]\n"
     ]
    },
    {
     "name": "stdout",
     "output_type": "stream",
     "text": [
      "Epoch 9: train accuracy = 0.673, test accuracy = 0.6793\n"
     ]
    },
    {
     "name": "stderr",
     "output_type": "stream",
     "text": [
      "100%|██████████| 12500/12500 [02:47<00:00, 74.79it/s]\n",
      "100%|██████████| 2500/2500 [00:11<00:00, 225.52it/s]\n"
     ]
    },
    {
     "name": "stdout",
     "output_type": "stream",
     "text": [
      "Epoch 10: train accuracy = 0.68392, test accuracy = 0.6926\n"
     ]
    },
    {
     "name": "stderr",
     "output_type": "stream",
     "text": [
      "100%|██████████| 12500/12500 [02:46<00:00, 74.89it/s]\n",
      "100%|██████████| 2500/2500 [00:11<00:00, 217.82it/s]\n"
     ]
    },
    {
     "name": "stdout",
     "output_type": "stream",
     "text": [
      "Epoch 11: train accuracy = 0.69626, test accuracy = 0.6987\n"
     ]
    },
    {
     "name": "stderr",
     "output_type": "stream",
     "text": [
      "100%|██████████| 12500/12500 [02:46<00:00, 74.90it/s]\n",
      "100%|██████████| 2500/2500 [00:10<00:00, 233.74it/s]\n"
     ]
    },
    {
     "name": "stdout",
     "output_type": "stream",
     "text": [
      "Epoch 12: train accuracy = 0.70662, test accuracy = 0.7014\n"
     ]
    },
    {
     "name": "stderr",
     "output_type": "stream",
     "text": [
      "100%|██████████| 12500/12500 [02:47<00:00, 74.55it/s]\n",
      "100%|██████████| 2500/2500 [00:10<00:00, 241.03it/s]\n"
     ]
    },
    {
     "name": "stdout",
     "output_type": "stream",
     "text": [
      "Epoch 13: train accuracy = 0.71602, test accuracy = 0.7142\n"
     ]
    },
    {
     "name": "stderr",
     "output_type": "stream",
     "text": [
      "100%|██████████| 12500/12500 [02:47<00:00, 74.60it/s]\n",
      "100%|██████████| 2500/2500 [00:09<00:00, 266.32it/s]\n"
     ]
    },
    {
     "name": "stdout",
     "output_type": "stream",
     "text": [
      "Epoch 14: train accuracy = 0.72404, test accuracy = 0.7175\n"
     ]
    },
    {
     "name": "stderr",
     "output_type": "stream",
     "text": [
      "100%|██████████| 12500/12500 [02:49<00:00, 73.95it/s]\n",
      "100%|██████████| 2500/2500 [00:09<00:00, 265.90it/s]\n"
     ]
    },
    {
     "name": "stdout",
     "output_type": "stream",
     "text": [
      "Epoch 15: train accuracy = 0.73454, test accuracy = 0.7158\n"
     ]
    },
    {
     "name": "stderr",
     "output_type": "stream",
     "text": [
      "100%|██████████| 12500/12500 [02:48<00:00, 73.99it/s]\n",
      "100%|██████████| 2500/2500 [00:09<00:00, 254.21it/s]\n"
     ]
    },
    {
     "name": "stdout",
     "output_type": "stream",
     "text": [
      "Epoch 16: train accuracy = 0.74262, test accuracy = 0.715\n"
     ]
    },
    {
     "name": "stderr",
     "output_type": "stream",
     "text": [
      "100%|██████████| 12500/12500 [02:47<00:00, 74.52it/s]\n",
      "100%|██████████| 2500/2500 [00:09<00:00, 266.85it/s]\n"
     ]
    },
    {
     "name": "stdout",
     "output_type": "stream",
     "text": [
      "Epoch 17: train accuracy = 0.74728, test accuracy = 0.7164\n"
     ]
    },
    {
     "name": "stderr",
     "output_type": "stream",
     "text": [
      "100%|██████████| 12500/12500 [02:43<00:00, 76.28it/s]\n",
      "100%|██████████| 2500/2500 [00:09<00:00, 262.51it/s]\n"
     ]
    },
    {
     "name": "stdout",
     "output_type": "stream",
     "text": [
      "Epoch 18: train accuracy = 0.75476, test accuracy = 0.7302\n"
     ]
    },
    {
     "name": "stderr",
     "output_type": "stream",
     "text": [
      "100%|██████████| 12500/12500 [02:45<00:00, 75.41it/s]\n",
      "100%|██████████| 2500/2500 [00:09<00:00, 268.80it/s]\n"
     ]
    },
    {
     "name": "stdout",
     "output_type": "stream",
     "text": [
      "Epoch 19: train accuracy = 0.76078, test accuracy = 0.7407\n"
     ]
    },
    {
     "name": "stderr",
     "output_type": "stream",
     "text": [
      "100%|██████████| 12500/12500 [02:46<00:00, 75.05it/s]\n",
      "100%|██████████| 2500/2500 [00:10<00:00, 239.41it/s]\n"
     ]
    },
    {
     "name": "stdout",
     "output_type": "stream",
     "text": [
      "Epoch 20: train accuracy = 0.76794, test accuracy = 0.7406\n"
     ]
    }
   ],
   "source": [
    "model = ResNet(pretrained = False).to(dev)\n",
    "csv_name = \"ResNet18\"\n",
    "\n",
    "train(model, train_set, test_set, batch_size, epochs, lr, csv_name)"
   ]
  },
  {
   "cell_type": "code",
   "execution_count": 6,
   "id": "86189627",
   "metadata": {
    "execution": {
     "iopub.execute_input": "2023-08-22T08:26:51.098217Z",
     "iopub.status.busy": "2023-08-22T08:26:51.097818Z",
     "iopub.status.idle": "2023-08-22T08:52:15.679732Z",
     "shell.execute_reply": "2023-08-22T08:52:15.678798Z"
    },
    "papermill": {
     "duration": 1529.821205,
     "end_time": "2023-08-22T08:52:15.682079",
     "exception": false,
     "start_time": "2023-08-22T08:26:45.860874",
     "status": "completed"
    },
    "tags": []
   },
   "outputs": [
    {
     "name": "stderr",
     "output_type": "stream",
     "text": [
      "100%|██████████| 12500/12500 [01:05<00:00, 191.15it/s]\n",
      "100%|██████████| 2500/2500 [00:10<00:00, 242.57it/s]\n"
     ]
    },
    {
     "name": "stdout",
     "output_type": "stream",
     "text": [
      "Epoch 1: train accuracy = 0.26766, test accuracy = 0.2943\n"
     ]
    },
    {
     "name": "stderr",
     "output_type": "stream",
     "text": [
      "100%|██████████| 12500/12500 [01:06<00:00, 188.18it/s]\n",
      "100%|██████████| 2500/2500 [00:09<00:00, 265.32it/s]\n"
     ]
    },
    {
     "name": "stdout",
     "output_type": "stream",
     "text": [
      "Epoch 2: train accuracy = 0.31798, test accuracy = 0.3246\n"
     ]
    },
    {
     "name": "stderr",
     "output_type": "stream",
     "text": [
      "100%|██████████| 12500/12500 [01:06<00:00, 189.28it/s]\n",
      "100%|██████████| 2500/2500 [00:09<00:00, 270.23it/s]\n"
     ]
    },
    {
     "name": "stdout",
     "output_type": "stream",
     "text": [
      "Epoch 3: train accuracy = 0.32672, test accuracy = 0.3319\n"
     ]
    },
    {
     "name": "stderr",
     "output_type": "stream",
     "text": [
      "100%|██████████| 12500/12500 [01:06<00:00, 186.99it/s]\n",
      "100%|██████████| 2500/2500 [00:09<00:00, 265.82it/s]\n"
     ]
    },
    {
     "name": "stdout",
     "output_type": "stream",
     "text": [
      "Epoch 4: train accuracy = 0.32802, test accuracy = 0.3468\n"
     ]
    },
    {
     "name": "stderr",
     "output_type": "stream",
     "text": [
      "100%|██████████| 12500/12500 [01:06<00:00, 189.04it/s]\n",
      "100%|██████████| 2500/2500 [00:09<00:00, 268.74it/s]\n"
     ]
    },
    {
     "name": "stdout",
     "output_type": "stream",
     "text": [
      "Epoch 5: train accuracy = 0.3314, test accuracy = 0.3276\n"
     ]
    },
    {
     "name": "stderr",
     "output_type": "stream",
     "text": [
      "100%|██████████| 12500/12500 [01:06<00:00, 189.10it/s]\n",
      "100%|██████████| 2500/2500 [00:09<00:00, 257.13it/s]\n"
     ]
    },
    {
     "name": "stdout",
     "output_type": "stream",
     "text": [
      "Epoch 6: train accuracy = 0.33302, test accuracy = 0.3335\n"
     ]
    },
    {
     "name": "stderr",
     "output_type": "stream",
     "text": [
      "100%|██████████| 12500/12500 [01:06<00:00, 188.66it/s]\n",
      "100%|██████████| 2500/2500 [00:09<00:00, 268.59it/s]\n"
     ]
    },
    {
     "name": "stdout",
     "output_type": "stream",
     "text": [
      "Epoch 7: train accuracy = 0.3305, test accuracy = 0.3379\n"
     ]
    },
    {
     "name": "stderr",
     "output_type": "stream",
     "text": [
      "100%|██████████| 12500/12500 [01:06<00:00, 187.43it/s]\n",
      "100%|██████████| 2500/2500 [00:09<00:00, 267.26it/s]\n"
     ]
    },
    {
     "name": "stdout",
     "output_type": "stream",
     "text": [
      "Epoch 8: train accuracy = 0.3263, test accuracy = 0.3549\n"
     ]
    },
    {
     "name": "stderr",
     "output_type": "stream",
     "text": [
      "100%|██████████| 12500/12500 [01:06<00:00, 186.74it/s]\n",
      "100%|██████████| 2500/2500 [00:11<00:00, 215.04it/s]\n"
     ]
    },
    {
     "name": "stdout",
     "output_type": "stream",
     "text": [
      "Epoch 9: train accuracy = 0.3309, test accuracy = 0.339\n"
     ]
    },
    {
     "name": "stderr",
     "output_type": "stream",
     "text": [
      "100%|██████████| 12500/12500 [01:05<00:00, 189.41it/s]\n",
      "100%|██████████| 2500/2500 [00:09<00:00, 257.59it/s]\n"
     ]
    },
    {
     "name": "stdout",
     "output_type": "stream",
     "text": [
      "Epoch 10: train accuracy = 0.33248, test accuracy = 0.3353\n"
     ]
    },
    {
     "name": "stderr",
     "output_type": "stream",
     "text": [
      "100%|██████████| 12500/12500 [01:06<00:00, 189.05it/s]\n",
      "100%|██████████| 2500/2500 [00:09<00:00, 257.71it/s]\n"
     ]
    },
    {
     "name": "stdout",
     "output_type": "stream",
     "text": [
      "Epoch 11: train accuracy = 0.33236, test accuracy = 0.3354\n"
     ]
    },
    {
     "name": "stderr",
     "output_type": "stream",
     "text": [
      "100%|██████████| 12500/12500 [01:06<00:00, 188.03it/s]\n",
      "100%|██████████| 2500/2500 [00:09<00:00, 265.51it/s]\n"
     ]
    },
    {
     "name": "stdout",
     "output_type": "stream",
     "text": [
      "Epoch 12: train accuracy = 0.33322, test accuracy = 0.3505\n"
     ]
    },
    {
     "name": "stderr",
     "output_type": "stream",
     "text": [
      "100%|██████████| 12500/12500 [01:06<00:00, 187.44it/s]\n",
      "100%|██████████| 2500/2500 [00:09<00:00, 265.88it/s]\n"
     ]
    },
    {
     "name": "stdout",
     "output_type": "stream",
     "text": [
      "Epoch 13: train accuracy = 0.3364, test accuracy = 0.3357\n"
     ]
    },
    {
     "name": "stderr",
     "output_type": "stream",
     "text": [
      "100%|██████████| 12500/12500 [01:07<00:00, 186.20it/s]\n",
      "100%|██████████| 2500/2500 [00:09<00:00, 267.80it/s]\n"
     ]
    },
    {
     "name": "stdout",
     "output_type": "stream",
     "text": [
      "Epoch 14: train accuracy = 0.33378, test accuracy = 0.3389\n"
     ]
    },
    {
     "name": "stderr",
     "output_type": "stream",
     "text": [
      "100%|██████████| 12500/12500 [01:06<00:00, 187.90it/s]\n",
      "100%|██████████| 2500/2500 [00:09<00:00, 266.96it/s]\n"
     ]
    },
    {
     "name": "stdout",
     "output_type": "stream",
     "text": [
      "Epoch 15: train accuracy = 0.33628, test accuracy = 0.3348\n"
     ]
    },
    {
     "name": "stderr",
     "output_type": "stream",
     "text": [
      "100%|██████████| 12500/12500 [01:06<00:00, 187.47it/s]\n",
      "100%|██████████| 2500/2500 [00:09<00:00, 258.68it/s]\n"
     ]
    },
    {
     "name": "stdout",
     "output_type": "stream",
     "text": [
      "Epoch 16: train accuracy = 0.33556, test accuracy = 0.351\n"
     ]
    },
    {
     "name": "stderr",
     "output_type": "stream",
     "text": [
      "100%|██████████| 12500/12500 [01:06<00:00, 187.99it/s]\n",
      "100%|██████████| 2500/2500 [00:09<00:00, 268.65it/s]\n"
     ]
    },
    {
     "name": "stdout",
     "output_type": "stream",
     "text": [
      "Epoch 17: train accuracy = 0.33374, test accuracy = 0.3576\n"
     ]
    },
    {
     "name": "stderr",
     "output_type": "stream",
     "text": [
      "100%|██████████| 12500/12500 [01:06<00:00, 187.82it/s]\n",
      "100%|██████████| 2500/2500 [00:11<00:00, 209.09it/s]\n"
     ]
    },
    {
     "name": "stdout",
     "output_type": "stream",
     "text": [
      "Epoch 18: train accuracy = 0.3318, test accuracy = 0.3603\n"
     ]
    },
    {
     "name": "stderr",
     "output_type": "stream",
     "text": [
      "100%|██████████| 12500/12500 [01:05<00:00, 191.64it/s]\n",
      "100%|██████████| 2500/2500 [00:11<00:00, 221.68it/s]\n"
     ]
    },
    {
     "name": "stdout",
     "output_type": "stream",
     "text": [
      "Epoch 19: train accuracy = 0.33498, test accuracy = 0.3451\n"
     ]
    },
    {
     "name": "stderr",
     "output_type": "stream",
     "text": [
      "100%|██████████| 12500/12500 [01:06<00:00, 188.19it/s]\n",
      "100%|██████████| 2500/2500 [00:09<00:00, 268.35it/s]"
     ]
    },
    {
     "name": "stdout",
     "output_type": "stream",
     "text": [
      "Epoch 20: train accuracy = 0.33156, test accuracy = 0.3649\n"
     ]
    },
    {
     "name": "stderr",
     "output_type": "stream",
     "text": [
      "\n"
     ]
    }
   ],
   "source": [
    "model = ResNet(freeze = True).to(dev)\n",
    "csv_name = \"Freezed_ResNet18\"\n",
    "\n",
    "train(model, train_set, test_set, batch_size, epochs, lr, csv_name)"
   ]
  },
  {
   "cell_type": "code",
   "execution_count": 7,
   "id": "d4d903ab",
   "metadata": {
    "execution": {
     "iopub.execute_input": "2023-08-22T08:52:28.796179Z",
     "iopub.status.busy": "2023-08-22T08:52:28.795790Z",
     "iopub.status.idle": "2023-08-22T08:52:29.281261Z",
     "shell.execute_reply": "2023-08-22T08:52:29.280287Z"
    },
    "papermill": {
     "duration": 6.695123,
     "end_time": "2023-08-22T08:52:29.286471",
     "exception": false,
     "start_time": "2023-08-22T08:52:22.591348",
     "status": "completed"
    },
    "tags": []
   },
   "outputs": [
    {
     "data": {
      "image/png": "[encoded data removed]",
      "text/plain": [
       "<Figure size 640x480 with 1 Axes>"
      ]
     },
     "metadata": {},
     "output_type": "display_data"
    }
   ],
   "source": [
    "import pandas as pd\n",
    "import matplotlib.pyplot as plt\n",
    "\n",
    "Pretrained = pd.read_csv('/kaggle/working/Pretrained_ResNet18.csv', header = None)\n",
    "From_Scratch = pd.read_csv('/kaggle/working/ResNet18.csv', header = None)\n",
    "Freezed = pd.read_csv(\"/kaggle/working/Freezed_ResNet18.csv\", header = None)\n",
    "\n",
    "train_column = 0  # Column index for train accuracy\n",
    "valid_column = 1  # Column index for validation accuracy\n",
    "\n",
    "# ResNet18\n",
    "plt.plot(Pretrained[train_column], label='ResNet18 Pretrained Train')\n",
    "plt.plot(Pretrained[valid_column], label='ResNet18 Pretrained Test')\n",
    "\n",
    "# ResNet50\n",
    "plt.plot(From_Scratch[train_column], label='ResNet18 Train')\n",
    "plt.plot(From_Scratch[valid_column], label='ResNet18 Test')\n",
    "\n",
    "# ResNet152\n",
    "plt.plot(Freezed[train_column], label='ResNet18 Train')\n",
    "plt.plot(Freezed[valid_column], label='ResNet18 Test')\n",
    "\n",
    "plt.title('Training and Validation Accuracy for ResNet18 Models')\n",
    "plt.xlabel('Epoch')\n",
    "plt.ylabel('Accuracy')\n",
    "plt.legend()\n",
    "plt.grid(True)\n",
    "plt.show()"
   ]
  },
  {
   "cell_type": "markdown",
   "id": "09145fb4",
   "metadata": {
    "papermill": {
     "duration": 6.434777,
     "end_time": "2023-08-22T08:52:42.021382",
     "exception": false,
     "start_time": "2023-08-22T08:52:35.586605",
     "status": "completed"
    },
    "tags": []
   },
   "source": [
    "## Result\n",
    "Pretrained: 由於使用的是預訓練過的模型，在訓練初期就已有一定的表現\n",
    "\n",
    "From Scatch: 在模型從零開始訓練的過程中，也得到了不錯的表現\n",
    "\n",
    "Freeze Layer: 由於捲積層都被Freeze了，模型無法學習feature extraction的能力，因此表現不佳"
   ]
  }
 ],
 "metadata": {
  "kernelspec": {
   "display_name": "Python 3",
   "language": "python",
   "name": "python3"
  },
  "language_info": {
   "codemirror_mode": {
    "name": "ipython",
    "version": 3
   },
   "file_extension": ".py",
   "mimetype": "text/x-python",
   "name": "python",
   "nbconvert_exporter": "python",
   "pygments_lexer": "ipython3",
   "version": "3.10.12"
  },
  "papermill": {
   "default_parameters": {},
   "duration": 8667.107727,
   "end_time": "2023-08-22T08:52:52.081671",
   "environment_variables": {},
   "exception": null,
   "input_path": "__notebook__.ipynb",
   "output_path": "__notebook__.ipynb",
   "parameters": {},
   "start_time": "2023-08-22T06:28:24.973944",
   "version": "2.4.0"
  }
 },
 "nbformat": 4,
 "nbformat_minor": 5
}
