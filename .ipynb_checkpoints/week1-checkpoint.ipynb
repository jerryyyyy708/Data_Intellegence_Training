{
 "cells": [
  {
   "cell_type": "markdown",
   "id": "cc14a0b6",
   "metadata": {
    "papermill": {
     "duration": 0.00313,
     "end_time": "2023-07-21T16:01:59.324745",
     "exception": false,
     "start_time": "2023-07-21T16:01:59.321615",
     "status": "completed"
    },
    "tags": []
   },
   "source": [
    "# Task Instructions\n",
    "\n",
    "Step 0. Import **ALL** packages you need in **ONE** cell   \n",
    "\n",
    "Step 1. Load Data\n",
    "\n",
    "Step 2. Model Comparison and Discussion \n",
    "\n",
    "Step 3. Conclusion\n",
    "\n",
    " "
   ]
  },
  {
   "cell_type": "markdown",
   "id": "6f9075f8",
   "metadata": {
    "papermill": {
     "duration": 0.003007,
     "end_time": "2023-07-21T16:01:59.331148",
     "exception": false,
     "start_time": "2023-07-21T16:01:59.328141",
     "status": "completed"
    },
    "tags": []
   },
   "source": [
    "# Step 0. Import **ALL** packages you need in **ONE** cell  "
   ]
  },
  {
   "cell_type": "code",
   "execution_count": 15,
   "id": "87eedc73",
   "metadata": {
    "execution": {
     "iopub.execute_input": "2023-07-21T16:01:59.339430Z",
     "iopub.status.busy": "2023-07-21T16:01:59.339067Z",
     "iopub.status.idle": "2023-07-21T16:02:01.112167Z",
     "shell.execute_reply": "2023-07-21T16:02:01.110784Z"
    },
    "papermill": {
     "duration": 1.780101,
     "end_time": "2023-07-21T16:02:01.114518",
     "exception": false,
     "start_time": "2023-07-21T16:01:59.334417",
     "status": "completed"
    },
    "tags": []
   },
   "outputs": [],
   "source": [
    "import pandas as pd\n",
    "from sklearn.linear_model import LinearRegression, Lasso, Ridge\n",
    "from sklearn.tree import DecisionTreeClassifier\n",
    "from sklearn.neighbors import KNeighborsClassifier\n",
    "from sklearn.svm import SVC\n",
    "\n",
    "from sklearn import tree\n",
    "from sklearn.metrics import confusion_matrix\n",
    "from sklearn.metrics import recall_score,accuracy_score\n",
    "from sklearn.metrics import precision_score\n",
    "from sklearn.model_selection import train_test_split\n",
    "\n",
    "import csv\n",
    "import time\n",
    "\n",
    "def generate_csv(ypredict, filename = 'result.csv'):\n",
    "    with open(filename,'w',newline = '') as fd:\n",
    "        writer = csv.writer(fd)\n",
    "        writer.writerow(['index','default.payment.next.month'])\n",
    "\n",
    "    for index,pred in enumerate(ypredict):\n",
    "        with open(filename,'a',newline = '') as fd:\n",
    "            writer = csv.writer(fd)\n",
    "            writer.writerow([index,pred])\n",
    "            \n",
    "def show_result(groud_truth, prediction):\n",
    "    print(\"Accuracy: \", accuracy_score(groud_truth, prediction))\n",
    "    print(\"Precision: \",precision_score(groud_truth, prediction))\n",
    "    print(\"Recall: \",recall_score(groud_truth, prediction))\n",
    "    print(\"Confusion Matrix: \")\n",
    "    print(confusion_matrix(groud_truth, prediction))\n",
    "    return accuracy_score(groud_truth, prediction)"
   ]
  },
  {
   "cell_type": "markdown",
   "id": "8aceca50",
   "metadata": {
    "papermill": {
     "duration": 0.003745,
     "end_time": "2023-07-21T16:02:01.122363",
     "exception": false,
     "start_time": "2023-07-21T16:02:01.118618",
     "status": "completed"
    },
    "tags": []
   },
   "source": [
    "# Step 1. Load Data"
   ]
  },
  {
   "cell_type": "code",
   "execution_count": 2,
   "id": "0d14dfe9",
   "metadata": {
    "execution": {
     "iopub.execute_input": "2023-07-21T16:02:01.131010Z",
     "iopub.status.busy": "2023-07-21T16:02:01.130669Z",
     "iopub.status.idle": "2023-07-21T16:02:01.269525Z",
     "shell.execute_reply": "2023-07-21T16:02:01.268502Z"
    },
    "papermill": {
     "duration": 0.145989,
     "end_time": "2023-07-21T16:02:01.271863",
     "exception": false,
     "start_time": "2023-07-21T16:02:01.125874",
     "status": "completed"
    },
    "tags": []
   },
   "outputs": [],
   "source": [
    "train_x = pd.read_csv('data_train.csv')\n",
    "train_x = train_x.iloc[:,1:-1]\n",
    "train_y = pd.read_csv('answer_train.csv')\n",
    "train_y = train_y.iloc[:,-1]\n",
    "test_x = pd.read_csv('data_test.csv')\n",
    "test_x = test_x.iloc[:,1:-1]\n",
    "train_split_x, valid_x, train_split_y, valid_y = train_test_split(train_x, train_y, test_size = 0.2, random_state = 1)"
   ]
  },
  {
   "cell_type": "markdown",
   "id": "c42715c6",
   "metadata": {
    "papermill": {
     "duration": 0.003376,
     "end_time": "2023-07-21T16:02:01.280898",
     "exception": false,
     "start_time": "2023-07-21T16:02:01.277522",
     "status": "completed"
    },
    "tags": []
   },
   "source": [
    "# Step 2. Algorithms Comparison and Discussion \n",
    "\n",
    "**\"In addition to the parameters listed, please provide an analytical discussion for each model as described below. You can also supplement any other parameters that were found to have an impact on the model during the process.\"**\n",
    "\n",
    "* Linear Regression: L1/L2   - The weight difference of different features under L1 and L2\n",
    "* Decision Tree: IG/Gini - The difference between the results of two different index pairs\n",
    "* Support Vector Machine: Gamma/C - The effect of each of the two parameters on the model\n",
    "* K-Nearest Neighbor: K  - Effect of different K values on the model\n"
   ]
  },
  {
   "cell_type": "markdown",
   "id": "45fcba38",
   "metadata": {
    "papermill": {
     "duration": 0.003296,
     "end_time": "2023-07-21T16:02:01.287900",
     "exception": false,
     "start_time": "2023-07-21T16:02:01.284604",
     "status": "completed"
    },
    "tags": []
   },
   "source": [
    "### Linear Regression ###"
   ]
  },
  {
   "cell_type": "code",
   "execution_count": 19,
   "id": "170b9524",
   "metadata": {
    "papermill": {
     "duration": 0.003401,
     "end_time": "2023-07-21T16:02:01.294938",
     "exception": false,
     "start_time": "2023-07-21T16:02:01.291537",
     "status": "completed"
    },
    "tags": []
   },
   "outputs": [
    {
     "name": "stdout",
     "output_type": "stream",
     "text": [
      "Accuracy:  0.8085416666666667\n",
      "Precision:  0.7241379310344828\n",
      "Recall:  0.14554455445544554\n",
      "Confusion Matrix: \n",
      "[[3734   56]\n",
      " [ 863  147]]\n"
     ]
    }
   ],
   "source": [
    "#No regularization\n",
    "model=LinearRegression()\n",
    "model.fit(train_split_x, train_split_y)\n",
    "\n",
    "ypredict = model.predict(valid_x).round()\n",
    "ypredict[ypredict>1] = 1\n",
    "ypredict[ypredict<1] = 0\n",
    "show_result(valid_y, ypredict)\n",
    "\n",
    "model=LinearRegression()\n",
    "model.fit(train_x, train_y)\n",
    "ypredict=model.predict(test_x).round()\n",
    "ypredict[ypredict>1] = 1\n",
    "ypredict[ypredict<1] = 0\n",
    "generate_csv(ypredict, 'LR_Result.csv')"
   ]
  },
  {
   "cell_type": "code",
   "execution_count": 18,
   "id": "10f50513",
   "metadata": {},
   "outputs": [
    {
     "name": "stdout",
     "output_type": "stream",
     "text": [
      "Accuracy:  0.7895833333333333\n",
      "Precision:  0.0\n",
      "Recall:  0.0\n",
      "Confusion Matrix: \n",
      "[[3790    0]\n",
      " [1010    0]]\n"
     ]
    },
    {
     "name": "stderr",
     "output_type": "stream",
     "text": [
      "C:\\Users\\jerry\\anaconda3\\envs\\pytorch\\lib\\site-packages\\sklearn\\metrics\\_classification.py:1248: UndefinedMetricWarning: Precision is ill-defined and being set to 0.0 due to no predicted samples. Use `zero_division` parameter to control this behavior.\n",
      "  _warn_prf(average, modifier, msg_start, len(result))\n"
     ]
    }
   ],
   "source": [
    "#L1\n",
    "model=Lasso(alpha = 0.1)\n",
    "model.fit(train_split_x, train_split_y)\n",
    "\n",
    "ypredict = model.predict(valid_x).round()\n",
    "ypredict[ypredict>1] = 1\n",
    "ypredict[ypredict<1] = 0\n",
    "show_result(valid_y, ypredict)\n",
    "\n",
    "model=Lasso(alpha = 0.1)\n",
    "model.fit(train_x, train_y)\n",
    "ypredict=model.predict(test_x).round()\n",
    "ypredict[ypredict>1] = 1\n",
    "ypredict[ypredict<1] = 0\n",
    "generate_csv(ypredict, 'L1_Result.csv')"
   ]
  },
  {
   "cell_type": "code",
   "execution_count": 17,
   "id": "274f007b",
   "metadata": {},
   "outputs": [
    {
     "name": "stdout",
     "output_type": "stream",
     "text": [
      "Accuracy:  0.8085416666666667\n",
      "Precision:  0.7241379310344828\n",
      "Recall:  0.14554455445544554\n",
      "Confusion Matrix: \n",
      "[[3734   56]\n",
      " [ 863  147]]\n"
     ]
    }
   ],
   "source": [
    "#L2\n",
    "model=Ridge(alpha = 0.1)\n",
    "model.fit(train_split_x, train_split_y)\n",
    "\n",
    "ypredict = model.predict(valid_x).round()\n",
    "ypredict[ypredict>1] = 1\n",
    "ypredict[ypredict<1] = 0\n",
    "show_result(valid_y, ypredict)\n",
    "\n",
    "model=Ridge(alpha = 0.1)\n",
    "model.fit(train_x, train_y)\n",
    "ypredict=model.predict(test_x).round()\n",
    "ypredict[ypredict>1] = 1\n",
    "ypredict[ypredict<1] = 0\n",
    "generate_csv(ypredict, 'L2_Result.csv')"
   ]
  },
  {
   "cell_type": "markdown",
   "id": "0c72aeda",
   "metadata": {
    "papermill": {
     "duration": 0.003348,
     "end_time": "2023-07-21T16:02:01.301821",
     "exception": false,
     "start_time": "2023-07-21T16:02:01.298473",
     "status": "completed"
    },
    "tags": []
   },
   "source": [
    "### Decision Tree ###"
   ]
  },
  {
   "cell_type": "code",
   "execution_count": 10,
   "id": "2171c3b9",
   "metadata": {
    "execution": {
     "iopub.execute_input": "2023-07-21T16:02:01.310954Z",
     "iopub.status.busy": "2023-07-21T16:02:01.310398Z",
     "iopub.status.idle": "2023-07-21T16:02:01.590955Z",
     "shell.execute_reply": "2023-07-21T16:02:01.589956Z"
    },
    "papermill": {
     "duration": 0.287765,
     "end_time": "2023-07-21T16:02:01.593201",
     "exception": false,
     "start_time": "2023-07-21T16:02:01.305436",
     "status": "completed"
    },
    "tags": []
   },
   "outputs": [
    {
     "name": "stdout",
     "output_type": "stream",
     "text": [
      "Accuracy:  0.82875\n",
      "Precision:  0.6721611721611722\n",
      "Recall:  0.36336633663366336\n",
      "Confusion Matrix: \n",
      "[[3611  179]\n",
      " [ 643  367]]\n"
     ]
    }
   ],
   "source": [
    "#information gain\n",
    "start = time.time()\n",
    "model=DecisionTreeClassifier(criterion = 'entropy', max_depth = 4, random_state=1)\n",
    "model.fit(train_split_x, train_split_y)\n",
    "\n",
    "ypredict = model.predict(valid_x)\n",
    "show_result(valid_y, ypredict)\n",
    "\n",
    "model=DecisionTreeClassifier(criterion = 'entropy', max_depth = 4, random_state=1)\n",
    "model.fit(train_x, train_y)\n",
    "ypredict=model.predict(test_x)\n",
    "generate_csv(ypredict, 'DTIG_Result.csv')"
   ]
  },
  {
   "cell_type": "code",
   "execution_count": 11,
   "id": "48ee36e5",
   "metadata": {},
   "outputs": [
    {
     "name": "stdout",
     "output_type": "stream",
     "text": [
      "Accuracy:  0.8277083333333334\n",
      "Precision:  0.6678899082568808\n",
      "Recall:  0.3603960396039604\n",
      "Confusion Matrix: \n",
      "[[3609  181]\n",
      " [ 646  364]]\n"
     ]
    }
   ],
   "source": [
    "#gini impurity\n",
    "start = time.time()\n",
    "model=DecisionTreeClassifier(criterion = 'gini', max_depth = 4, random_state=1)\n",
    "model.fit(train_split_x, train_split_y)\n",
    "\n",
    "ypredict = model.predict(valid_x)\n",
    "show_result(valid_y, ypredict)\n",
    "\n",
    "model=DecisionTreeClassifier(criterion = 'gini', max_depth = 4, random_state=1)\n",
    "model.fit(train_x, train_y)\n",
    "ypredict=model.predict(test_x)\n",
    "generate_csv(ypredict, 'DTgini_Result.csv')"
   ]
  },
  {
   "cell_type": "markdown",
   "id": "9c0bec9d",
   "metadata": {
    "papermill": {
     "duration": 0.003477,
     "end_time": "2023-07-21T16:02:01.617665",
     "exception": false,
     "start_time": "2023-07-21T16:02:01.614188",
     "status": "completed"
    },
    "tags": []
   },
   "source": [
    "### Support Vector Machine ###"
   ]
  },
  {
   "cell_type": "code",
   "execution_count": null,
   "id": "48379431",
   "metadata": {
    "papermill": {
     "duration": 0.003363,
     "end_time": "2023-07-21T16:02:01.624748",
     "exception": false,
     "start_time": "2023-07-21T16:02:01.621385",
     "status": "completed"
    },
    "tags": []
   },
   "outputs": [],
   "source": [
    "# Training the SVM model\n",
    "start = time.time()\n",
    "model = SVC(kernel='linear', random_state=1)\n",
    "model.fit(train_split_x, train_split_y)\n",
    "print(\"Training time: \", time.time() - start)\n",
    "print()\n",
    "\n",
    "# Evaluating the SVM model on the validation set\n",
    "ypredict = model.predict(valid_x)\n",
    "show_result(valid_y, ypredict)\n",
    "\n",
    "# Generating CSV file for the SVM model's predictions on the test set\n",
    "model = SVC(kernel='linear', random_state=1)\n",
    "model.fit(train_x, train_y)\n",
    "ypredict = model.predict(test_x)\n",
    "generate_csv(ypredict, 'SVM_Result.csv')"
   ]
  },
  {
   "cell_type": "markdown",
   "id": "813ecaae",
   "metadata": {
    "papermill": {
     "duration": 0.003524,
     "end_time": "2023-07-21T16:02:01.632079",
     "exception": false,
     "start_time": "2023-07-21T16:02:01.628555",
     "status": "completed"
    },
    "tags": []
   },
   "source": [
    "### K-Nearest Neighbor ###"
   ]
  },
  {
   "cell_type": "code",
   "execution_count": null,
   "id": "fcee7a32",
   "metadata": {
    "papermill": {
     "duration": 0.003326,
     "end_time": "2023-07-21T16:02:01.638936",
     "exception": false,
     "start_time": "2023-07-21T16:02:01.635610",
     "status": "completed"
    },
    "tags": []
   },
   "outputs": [
    {
     "name": "stdout",
     "output_type": "stream",
     "text": [
      "N = 5\n",
      "Training time:  0.009003639221191406\n",
      "Accuracy:  0.7666666666666667\n",
      "Precision:  0.38866396761133604\n",
      "Recall:  0.1900990099009901\n",
      "Confusion Matrix: \n",
      "[[3488  302]\n",
      " [ 818  192]]\n",
      "\n",
      "N = 10\n",
      "Training time:  2.1960880756378174\n",
      "Accuracy:  0.7875\n",
      "Precision:  0.4772727272727273\n",
      "Recall:  0.10396039603960396\n",
      "Confusion Matrix: \n",
      "[[3675  115]\n",
      " [ 905  105]]\n",
      "\n",
      "N = 20\n",
      "Training time:  4.345383405685425\n",
      "Accuracy:  0.7885416666666667\n",
      "Precision:  0.48366013071895425\n",
      "Recall:  0.07326732673267326\n",
      "Confusion Matrix: \n",
      "[[3711   79]\n",
      " [ 936   74]]\n",
      "\n",
      "N = 50\n",
      "Training time:  6.510468006134033\n",
      "Accuracy:  0.7902083333333333\n",
      "Precision:  0.5151515151515151\n",
      "Recall:  0.0504950495049505\n",
      "Confusion Matrix: \n",
      "[[3742   48]\n",
      " [ 959   51]]\n",
      "\n",
      "N = 100\n",
      "Training time:  8.71213674545288\n",
      "Accuracy:  0.7910416666666666\n",
      "Precision:  0.5573770491803278\n",
      "Recall:  0.033663366336633666\n",
      "Confusion Matrix: \n",
      "[[3763   27]\n",
      " [ 976   34]]\n",
      "\n",
      "N = 200\n",
      "Training time:  11.273615837097168\n",
      "Accuracy:  0.7902083333333333\n",
      "Precision:  0.6153846153846154\n",
      "Recall:  0.007920792079207921\n",
      "Confusion Matrix: \n",
      "[[3785    5]\n",
      " [1002    8]]\n",
      "\n"
     ]
    }
   ],
   "source": [
    "start = time.time()\n",
    "neighbors = [5,10,20,50,100,200]\n",
    "best_acc = 0\n",
    "for i in neighbors:\n",
    "    model=KNeighborsClassifier(n_neighbors = i)\n",
    "    model.fit(train_split_x, train_split_y)\n",
    "    print(\"N =\", i)\n",
    "    print(\"Training time: \", time.time() - start)\n",
    "\n",
    "    ypredict = model.predict(valid_x)\n",
    "    acc = show_result(valid_y, ypredict)\n",
    "    print()\n",
    "    if acc > best_acc:\n",
    "        best_acc = acc\n",
    "        best_n = i    \n",
    "\n",
    "model=KNeighborsClassifier(n_neighbors = 50)\n",
    "model.fit(train_x, train_y)\n",
    "ypredict=model.predict(test_x)\n",
    "generate_csv(ypredict, 'KNN_Result.csv')"
   ]
  },
  {
   "cell_type": "markdown",
   "id": "0a84fab1",
   "metadata": {
    "papermill": {
     "duration": 0.003266,
     "end_time": "2023-07-21T16:02:01.645727",
     "exception": false,
     "start_time": "2023-07-21T16:02:01.642461",
     "status": "completed"
    },
    "tags": []
   },
   "source": [
    "# Step 3. Conclusion #\n",
    "\n",
    "Conduct a comparison among the four algorithms, considering factors such as performance, efficiency, and any additional insights you would like to share regarding this assignment.\n"
   ]
  }
 ],
 "metadata": {
  "kernelspec": {
   "display_name": "Python 3",
   "language": "python",
   "name": "python3"
  },
  "language_info": {
   "codemirror_mode": {
    "name": "ipython",
    "version": 3
   },
   "file_extension": ".py",
   "mimetype": "text/x-python",
   "name": "python",
   "nbconvert_exporter": "python",
   "pygments_lexer": "ipython3",
   "version": "3.6.15"
  },
  "papermill": {
   "default_parameters": {},
   "duration": 14.555682,
   "end_time": "2023-07-21T16:02:02.571103",
   "environment_variables": {},
   "exception": null,
   "input_path": "__notebook__.ipynb",
   "output_path": "__notebook__.ipynb",
   "parameters": {},
   "start_time": "2023-07-21T16:01:48.015421",
   "version": "2.4.0"
  }
 },
 "nbformat": 4,
 "nbformat_minor": 5
}
