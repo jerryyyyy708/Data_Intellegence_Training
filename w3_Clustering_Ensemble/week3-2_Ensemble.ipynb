{
 "cells": [
  {
   "cell_type": "code",
   "execution_count": 1,
   "id": "fab5a426",
   "metadata": {
    "_cell_guid": "b1076dfc-b9ad-4769-8c92-a6c4dae69d19",
    "_uuid": "8f2839f25d086af736a60e9eeb907d3b93b6e0e5",
    "execution": {
     "iopub.execute_input": "2023-08-05T16:56:09.533992Z",
     "iopub.status.busy": "2023-08-05T16:56:09.533668Z",
     "iopub.status.idle": "2023-08-05T16:56:09.544550Z",
     "shell.execute_reply": "2023-08-05T16:56:09.543815Z"
    },
    "jupyter": {
     "source_hidden": true
    },
    "papermill": {
     "duration": 0.017866,
     "end_time": "2023-08-05T16:56:09.546308",
     "exception": false,
     "start_time": "2023-08-05T16:56:09.528442",
     "status": "completed"
    },
    "tags": []
   },
   "outputs": [
    {
     "name": "stdout",
     "output_type": "stream",
     "text": [
      "/kaggle/input/nycu-dilab-2023-onboard/data_train.csv\n",
      "/kaggle/input/nycu-dilab-2023-onboard/data_test.csv\n",
      "/kaggle/input/nycu-dilab-2023-onboard/answer_train.csv\n",
      "/kaggle/input/nycu-dilab-2023-onboard/answer_sample.csv\n"
     ]
    }
   ],
   "source": [
    "# This Python 3 environment comes with many helpful analytics libraries installed\n",
    "# It is defined by the kaggle/python Docker image: https://github.com/kaggle/docker-python\n",
    "# For example, here's several helpful packages to load\n",
    "\n",
    "import numpy as np # linear algebra\n",
    "import pandas as pd # data processing, CSV file I/O (e.g. pd.read_csv)\n",
    "\n",
    "# Input data files are available in the read-only \"../input/\" directory\n",
    "# For example, running this (by clicking run or pressing Shift+Enter) will list all files under the input directory\n",
    "\n",
    "import os\n",
    "for dirname, _, filenames in os.walk('/kaggle/input'):\n",
    "    for filename in filenames:\n",
    "        print(os.path.join(dirname, filename))\n",
    "\n",
    "# You can write up to 20GB to the current directory (/kaggle/working/) that gets preserved as output when you create a version using \"Save & Run All\" \n",
    "# You can also write temporary files to /kaggle/temp/, but they won't be saved outside of the current session"
   ]
  },
  {
   "cell_type": "markdown",
   "id": "39437877",
   "metadata": {
    "papermill": {
     "duration": 0.003115,
     "end_time": "2023-08-05T16:56:09.552912",
     "exception": false,
     "start_time": "2023-08-05T16:56:09.549797",
     "status": "completed"
    },
    "tags": []
   },
   "source": [
    "# Requirement\n",
    "* Submit your predicted results on kaggle, and you should be able to beat ‘wee3_medium.csv’, and it is not hard to beat ‘week_3_hard’\n",
    "* Improve over last week’s performance by using ensemble models or dimension reduction methods (RF, XGBoost, Lightgbm, Catboost)."
   ]
  },
  {
   "cell_type": "code",
   "execution_count": 2,
   "id": "9b1b8395",
   "metadata": {
    "execution": {
     "iopub.execute_input": "2023-08-05T16:56:09.561217Z",
     "iopub.status.busy": "2023-08-05T16:56:09.560832Z",
     "iopub.status.idle": "2023-08-05T16:56:11.347557Z",
     "shell.execute_reply": "2023-08-05T16:56:11.346504Z"
    },
    "papermill": {
     "duration": 1.793681,
     "end_time": "2023-08-05T16:56:11.349841",
     "exception": false,
     "start_time": "2023-08-05T16:56:09.556160",
     "status": "completed"
    },
    "tags": []
   },
   "outputs": [],
   "source": [
    "import warnings\n",
    "warnings.filterwarnings(\"ignore\")\n",
    "import numpy as np\n",
    "import pandas as pd\n",
    "\n",
    "from sklearn.decomposition import PCA\n",
    "from sklearn.ensemble import RandomForestClassifier\n",
    "\n",
    "from sklearn.metrics import confusion_matrix\n",
    "from sklearn.metrics import recall_score,accuracy_score\n",
    "from sklearn.metrics import precision_score\n",
    "\n",
    "import csv\n",
    "\n",
    "\n",
    "def generate_csv(ypredict, filename = 'result.csv'):\n",
    "    with open(filename,'w',newline = '') as fd:\n",
    "        writer = csv.writer(fd)\n",
    "        writer.writerow(['index','default.payment.next.month'])\n",
    "\n",
    "    for index,pred in enumerate(ypredict):\n",
    "        with open(filename,'a',newline = '') as fd:\n",
    "            writer = csv.writer(fd)\n",
    "            writer.writerow([index,pred])\n",
    "            \n",
    "def show_result(ground_truth, prediction):\n",
    "    print(\"Accuracy: \", accuracy_score(ground_truth, prediction))\n",
    "    print(\"Precision: \",precision_score(ground_truth, prediction))\n",
    "    print(\"Recall: \",recall_score(ground_truth, prediction))\n",
    "    \n",
    "    plt.figure(figsize=(4,3))\n",
    "    cm = confusion_matrix(ground_truth, prediction)\n",
    "    sns.heatmap(cm, annot=True, fmt=\"d\", cmap=\"Blues\", xticklabels=[\"0\", \"1\"], yticklabels=[\"0\", \"1\"])\n",
    "    plt.xlabel(\"Predicted Labels\")\n",
    "    plt.ylabel(\"True Labels\")\n",
    "    plt.show()\n",
    "    return accuracy_score(ground_truth, prediction)"
   ]
  },
  {
   "cell_type": "markdown",
   "id": "9259b4b1",
   "metadata": {
    "papermill": {
     "duration": 0.003004,
     "end_time": "2023-08-05T16:56:11.356401",
     "exception": false,
     "start_time": "2023-08-05T16:56:11.353397",
     "status": "completed"
    },
    "tags": []
   },
   "source": [
    "# Load Data"
   ]
  },
  {
   "cell_type": "code",
   "execution_count": 3,
   "id": "e25ba20e",
   "metadata": {
    "execution": {
     "iopub.execute_input": "2023-08-05T16:56:11.364417Z",
     "iopub.status.busy": "2023-08-05T16:56:11.364037Z",
     "iopub.status.idle": "2023-08-05T16:56:11.497322Z",
     "shell.execute_reply": "2023-08-05T16:56:11.496203Z"
    },
    "papermill": {
     "duration": 0.139892,
     "end_time": "2023-08-05T16:56:11.499471",
     "exception": false,
     "start_time": "2023-08-05T16:56:11.359579",
     "status": "completed"
    },
    "tags": []
   },
   "outputs": [],
   "source": [
    "train_x = pd.read_csv('/kaggle/input/nycu-dilab-2023-onboard/data_train.csv')\n",
    "train_x = train_x.iloc[:,1:-1]\n",
    "train_y = pd.read_csv('/kaggle/input/nycu-dilab-2023-onboard/answer_train.csv')\n",
    "train_y = train_y.iloc[:,-1]\n",
    "test_x = pd.read_csv('/kaggle/input/nycu-dilab-2023-onboard/data_test.csv')\n",
    "test_x = test_x.iloc[:,1:-1]\n",
    "rawdata = pd.concat([train_x, train_y], axis=1, join='inner')"
   ]
  },
  {
   "cell_type": "markdown",
   "id": "c3a9aae7",
   "metadata": {
    "papermill": {
     "duration": 0.003133,
     "end_time": "2023-08-05T16:56:11.506124",
     "exception": false,
     "start_time": "2023-08-05T16:56:11.502991",
     "status": "completed"
    },
    "tags": []
   },
   "source": [
    "# PCA"
   ]
  },
  {
   "cell_type": "code",
   "execution_count": 4,
   "id": "c616408c",
   "metadata": {
    "execution": {
     "iopub.execute_input": "2023-08-05T16:56:11.514155Z",
     "iopub.status.busy": "2023-08-05T16:56:11.513769Z",
     "iopub.status.idle": "2023-08-05T16:56:11.654362Z",
     "shell.execute_reply": "2023-08-05T16:56:11.653601Z"
    },
    "papermill": {
     "duration": 0.147415,
     "end_time": "2023-08-05T16:56:11.656782",
     "exception": false,
     "start_time": "2023-08-05T16:56:11.509367",
     "status": "completed"
    },
    "tags": []
   },
   "outputs": [],
   "source": [
    "n_components = 5\n",
    "pca = PCA(n_components=n_components)\n",
    "pca.fit(train_x)\n",
    "train_x_pca = pca.transform(train_x)\n",
    "test_x_pca = pca.transform(test_x)"
   ]
  },
  {
   "cell_type": "markdown",
   "id": "f528cf7e",
   "metadata": {
    "papermill": {
     "duration": 0.005678,
     "end_time": "2023-08-05T16:56:11.666682",
     "exception": false,
     "start_time": "2023-08-05T16:56:11.661004",
     "status": "completed"
    },
    "tags": []
   },
   "source": [
    "# Ensemble"
   ]
  },
  {
   "cell_type": "code",
   "execution_count": 5,
   "id": "02c62103",
   "metadata": {
    "execution": {
     "iopub.execute_input": "2023-08-05T16:56:11.690881Z",
     "iopub.status.busy": "2023-08-05T16:56:11.689808Z",
     "iopub.status.idle": "2023-08-05T16:56:27.629391Z",
     "shell.execute_reply": "2023-08-05T16:56:27.628223Z"
    },
    "papermill": {
     "duration": 15.952783,
     "end_time": "2023-08-05T16:56:27.631821",
     "exception": false,
     "start_time": "2023-08-05T16:56:11.679038",
     "status": "completed"
    },
    "tags": []
   },
   "outputs": [],
   "source": [
    "#Original\n",
    "model=RandomForestClassifier(n_estimators = 200)\n",
    "model.fit(train_x, train_y)\n",
    "ypredict=model.predict_proba(test_x)\n",
    "ypredict = [pair[1] for pair in ypredict]\n",
    "generate_csv(ypredict, 'Original.csv')"
   ]
  },
  {
   "cell_type": "code",
   "execution_count": 6,
   "id": "a86fab48",
   "metadata": {
    "execution": {
     "iopub.execute_input": "2023-08-05T16:56:27.640428Z",
     "iopub.status.busy": "2023-08-05T16:56:27.640063Z",
     "iopub.status.idle": "2023-08-05T16:56:40.802610Z",
     "shell.execute_reply": "2023-08-05T16:56:40.801465Z"
    },
    "papermill": {
     "duration": 13.169435,
     "end_time": "2023-08-05T16:56:40.804744",
     "exception": false,
     "start_time": "2023-08-05T16:56:27.635309",
     "status": "completed"
    },
    "tags": []
   },
   "outputs": [],
   "source": [
    "#PCA\n",
    "model=RandomForestClassifier(n_estimators = 200)\n",
    "model.fit(train_x_pca, train_y)\n",
    "ypredict=model.predict_proba(test_x_pca)\n",
    "ypredict = [pair[1] for pair in ypredict]\n",
    "generate_csv(ypredict, 'PCA.csv')"
   ]
  },
  {
   "cell_type": "code",
   "execution_count": 7,
   "id": "a795a951",
   "metadata": {
    "execution": {
     "iopub.execute_input": "2023-08-05T16:56:40.812932Z",
     "iopub.status.busy": "2023-08-05T16:56:40.812627Z",
     "iopub.status.idle": "2023-08-05T16:56:43.395158Z",
     "shell.execute_reply": "2023-08-05T16:56:43.393911Z"
    },
    "papermill": {
     "duration": 2.589235,
     "end_time": "2023-08-05T16:56:43.397550",
     "exception": false,
     "start_time": "2023-08-05T16:56:40.808315",
     "status": "completed"
    },
    "tags": []
   },
   "outputs": [],
   "source": [
    "import xgboost as xgb\n",
    "\n",
    "model = xgb.XGBClassifier(n_estimators=100)\n",
    "model.fit(train_x, train_y)\n",
    "ypredict=model.predict_proba(test_x)\n",
    "ypredict = [pair[1] for pair in ypredict]\n",
    "generate_csv(ypredict, 'XGB.csv')"
   ]
  },
  {
   "cell_type": "code",
   "execution_count": 8,
   "id": "2fbdb59a",
   "metadata": {
    "execution": {
     "iopub.execute_input": "2023-08-05T16:56:43.406886Z",
     "iopub.status.busy": "2023-08-05T16:56:43.406158Z",
     "iopub.status.idle": "2023-08-05T16:56:45.367020Z",
     "shell.execute_reply": "2023-08-05T16:56:45.365832Z"
    },
    "papermill": {
     "duration": 1.968875,
     "end_time": "2023-08-05T16:56:45.370040",
     "exception": false,
     "start_time": "2023-08-05T16:56:43.401165",
     "status": "completed"
    },
    "tags": []
   },
   "outputs": [],
   "source": [
    "import lightgbm as lgb\n",
    "\n",
    "model = lgb.LGBMClassifier(n_estimators=100)\n",
    "model.fit(train_x, train_y)\n",
    "ypredict=model.predict_proba(test_x)\n",
    "ypredict = [pair[1] for pair in ypredict]\n",
    "generate_csv(ypredict, 'LGB.csv')"
   ]
  },
  {
   "cell_type": "code",
   "execution_count": 9,
   "id": "6a6aee02",
   "metadata": {
    "execution": {
     "iopub.execute_input": "2023-08-05T16:56:45.378561Z",
     "iopub.status.busy": "2023-08-05T16:56:45.378241Z",
     "iopub.status.idle": "2023-08-05T16:56:46.661713Z",
     "shell.execute_reply": "2023-08-05T16:56:46.660532Z"
    },
    "papermill": {
     "duration": 1.290251,
     "end_time": "2023-08-05T16:56:46.663976",
     "exception": false,
     "start_time": "2023-08-05T16:56:45.373725",
     "status": "completed"
    },
    "tags": []
   },
   "outputs": [],
   "source": [
    "import catboost as cb\n",
    "\n",
    "model = cb.CatBoostClassifier(n_estimators=100, logging_level='Silent')\n",
    "model.fit(train_x, train_y)\n",
    "ypredict=model.predict_proba(test_x)\n",
    "ypredict = [pair[1] for pair in ypredict]\n",
    "generate_csv(ypredict, 'CB.csv')"
   ]
  },
  {
   "cell_type": "markdown",
   "id": "06437c54",
   "metadata": {
    "papermill": {
     "duration": 0.003118,
     "end_time": "2023-08-05T16:56:46.670792",
     "exception": false,
     "start_time": "2023-08-05T16:56:46.667674",
     "status": "completed"
    },
    "tags": []
   },
   "source": [
    "## Analyze\n",
    "* The score after applying dimension reduction dropped by 10%, it seems like the data loss too much information after PCA.\n",
    "* Test performance improved 3~5% in comparison to traditional models such as decision tree, SVM.\n",
    "* Test score: RF > LGB > CB > XGB"
   ]
  }
 ],
 "metadata": {
  "kernelspec": {
   "display_name": "Python 3",
   "language": "python",
   "name": "python3"
  },
  "language_info": {
   "codemirror_mode": {
    "name": "ipython",
    "version": 3
   },
   "file_extension": ".py",
   "mimetype": "text/x-python",
   "name": "python",
   "nbconvert_exporter": "python",
   "pygments_lexer": "ipython3",
   "version": "3.10.10"
  },
  "papermill": {
   "default_parameters": {},
   "duration": 48.706884,
   "end_time": "2023-08-05T16:56:47.695104",
   "environment_variables": {},
   "exception": null,
   "input_path": "__notebook__.ipynb",
   "output_path": "__notebook__.ipynb",
   "parameters": {},
   "start_time": "2023-08-05T16:55:58.988220",
   "version": "2.4.0"
  }
 },
 "nbformat": 4,
 "nbformat_minor": 5
}
