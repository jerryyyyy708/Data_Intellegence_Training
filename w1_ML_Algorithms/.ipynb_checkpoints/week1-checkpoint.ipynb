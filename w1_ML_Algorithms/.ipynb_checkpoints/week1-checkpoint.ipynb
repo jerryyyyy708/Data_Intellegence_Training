{
 "cells": [
  {
   "cell_type": "markdown",
   "id": "cc14a0b6",
   "metadata": {
    "papermill": {
     "duration": 0.00313,
     "end_time": "2023-07-21T16:01:59.324745",
     "exception": false,
     "start_time": "2023-07-21T16:01:59.321615",
     "status": "completed"
    },
    "tags": []
   },
   "source": [
    "# Task Instructions\n",
    "\n",
    "Step 0. Import **ALL** packages you need in **ONE** cell   \n",
    "\n",
    "Step 1. Load Data\n",
    "\n",
    "Step 2. Model Comparison and Discussion \n",
    "\n",
    "Step 3. Conclusion\n",
    "\n",
    " "
   ]
  },
  {
   "cell_type": "markdown",
   "id": "6f9075f8",
   "metadata": {
    "papermill": {
     "duration": 0.003007,
     "end_time": "2023-07-21T16:01:59.331148",
     "exception": false,
     "start_time": "2023-07-21T16:01:59.328141",
     "status": "completed"
    },
    "tags": []
   },
   "source": [
    "# Step 0. Import **ALL** packages you need in **ONE** cell  "
   ]
  },
  {
   "cell_type": "code",
   "execution_count": 1,
   "id": "87eedc73",
   "metadata": {
    "execution": {
     "iopub.execute_input": "2023-07-21T16:01:59.339430Z",
     "iopub.status.busy": "2023-07-21T16:01:59.339067Z",
     "iopub.status.idle": "2023-07-21T16:02:01.112167Z",
     "shell.execute_reply": "2023-07-21T16:02:01.110784Z"
    },
    "papermill": {
     "duration": 1.780101,
     "end_time": "2023-07-21T16:02:01.114518",
     "exception": false,
     "start_time": "2023-07-21T16:01:59.334417",
     "status": "completed"
    },
    "tags": []
   },
   "outputs": [],
   "source": [
    "import pandas as pd\n",
    "from sklearn.linear_model import LinearRegression, Lasso, Ridge\n",
    "from sklearn.tree import DecisionTreeClassifier\n",
    "from sklearn.neighbors import KNeighborsClassifier\n",
    "from sklearn.svm import SVC\n",
    "\n",
    "from sklearn import tree\n",
    "from sklearn.metrics import confusion_matrix\n",
    "from sklearn.metrics import recall_score,accuracy_score\n",
    "from sklearn.metrics import precision_score\n",
    "from sklearn.model_selection import train_test_split\n",
    "\n",
    "import csv\n",
    "import time\n",
    "\n",
    "def generate_csv(ypredict, filename = 'result.csv'):\n",
    "    with open(filename,'w',newline = '') as fd:\n",
    "        writer = csv.writer(fd)\n",
    "        writer.writerow(['index','default.payment.next.month'])\n",
    "\n",
    "    for index,pred in enumerate(ypredict):\n",
    "        with open(filename,'a',newline = '') as fd:\n",
    "            writer = csv.writer(fd)\n",
    "            writer.writerow([index,pred])\n",
    "            \n",
    "def show_result(groud_truth, prediction):\n",
    "    print(\"Accuracy: \", accuracy_score(groud_truth, prediction))\n",
    "    print(\"Precision: \",precision_score(groud_truth, prediction))\n",
    "    print(\"Recall: \",recall_score(groud_truth, prediction))\n",
    "    print(\"Confusion Matrix: \")\n",
    "    print(confusion_matrix(groud_truth, prediction))\n",
    "    return accuracy_score(groud_truth, prediction)"
   ]
  },
  {
   "cell_type": "markdown",
   "id": "8aceca50",
   "metadata": {
    "papermill": {
     "duration": 0.003745,
     "end_time": "2023-07-21T16:02:01.122363",
     "exception": false,
     "start_time": "2023-07-21T16:02:01.118618",
     "status": "completed"
    },
    "tags": []
   },
   "source": [
    "# Step 1. Load Data"
   ]
  },
  {
   "cell_type": "code",
   "execution_count": 2,
   "id": "0d14dfe9",
   "metadata": {
    "execution": {
     "iopub.execute_input": "2023-07-21T16:02:01.131010Z",
     "iopub.status.busy": "2023-07-21T16:02:01.130669Z",
     "iopub.status.idle": "2023-07-21T16:02:01.269525Z",
     "shell.execute_reply": "2023-07-21T16:02:01.268502Z"
    },
    "papermill": {
     "duration": 0.145989,
     "end_time": "2023-07-21T16:02:01.271863",
     "exception": false,
     "start_time": "2023-07-21T16:02:01.125874",
     "status": "completed"
    },
    "tags": []
   },
   "outputs": [],
   "source": [
    "train_x = pd.read_csv('data_train.csv')\n",
    "train_x = train_x.iloc[:,1:-1]\n",
    "train_y = pd.read_csv('answer_train.csv')\n",
    "train_y = train_y.iloc[:,-1]\n",
    "test_x = pd.read_csv('data_test.csv')\n",
    "test_x = test_x.iloc[:,1:-1]\n",
    "columns_to_keep = [col for col in train_x.columns if 'PAY' in col]\n",
    "\n",
    "train_split_x, valid_x, train_split_y, valid_y = train_test_split(train_x, train_y, test_size = 0.2, random_state = 1)"
   ]
  },
  {
   "cell_type": "markdown",
   "id": "c42715c6",
   "metadata": {
    "papermill": {
     "duration": 0.003376,
     "end_time": "2023-07-21T16:02:01.280898",
     "exception": false,
     "start_time": "2023-07-21T16:02:01.277522",
     "status": "completed"
    },
    "tags": []
   },
   "source": [
    "# Step 2. Algorithms Comparison and Discussion \n",
    "\n",
    "**\"In addition to the parameters listed, please provide an analytical discussion for each model as described below. You can also supplement any other parameters that were found to have an impact on the model during the process.\"**\n",
    "\n",
    "* Linear Regression: L1/L2   - The weight difference of different features under L1 and L2\n",
    "* Decision Tree: IG/Gini - The difference between the results of two different index pairs\n",
    "* Support Vector Machine: Gamma/C - The effect of each of the two parameters on the model\n",
    "* K-Nearest Neighbor: K  - Effect of different K values on the model\n"
   ]
  },
  {
   "cell_type": "markdown",
   "id": "45fcba38",
   "metadata": {
    "papermill": {
     "duration": 0.003296,
     "end_time": "2023-07-21T16:02:01.287900",
     "exception": false,
     "start_time": "2023-07-21T16:02:01.284604",
     "status": "completed"
    },
    "tags": []
   },
   "source": [
    "### Linear Regression ###"
   ]
  },
  {
   "cell_type": "code",
   "execution_count": 6,
   "id": "8650913d",
   "metadata": {},
   "outputs": [
    {
     "name": "stdout",
     "output_type": "stream",
     "text": [
      "Accuracy:  0.7895833333333333\n",
      "Precision:  0.0\n",
      "Recall:  0.0\n",
      "Confusion Matrix: \n",
      "[[3790    0]\n",
      " [1010    0]]\n"
     ]
    },
    {
     "name": "stderr",
     "output_type": "stream",
     "text": [
      "C:\\Users\\jerry\\anaconda3\\envs\\pytorch\\lib\\site-packages\\sklearn\\metrics\\_classification.py:1248: UndefinedMetricWarning: Precision is ill-defined and being set to 0.0 due to no predicted samples. Use `zero_division` parameter to control this behavior.\n",
      "  _warn_prf(average, modifier, msg_start, len(result))\n"
     ]
    },
    {
     "name": "stdout",
     "output_type": "stream",
     "text": [
      "Coefficients:\n",
      "LIMIT_BAL: -3.8621394530226406e-07\n",
      "SEX: -0.0\n",
      "EDUCATION: -0.0\n",
      "MARRIAGE: -0.0\n",
      "AGE: 0.0003404761198594449\n",
      "PAY_0: 0.022401881075170705\n",
      "PAY_2: 0.0\n",
      "PAY_3: 0.0\n",
      "PAY_4: 0.0\n",
      "PAY_5: 0.0\n",
      "PAY_6: 0.0\n",
      "BILL_AMT1: -7.330477628529095e-07\n",
      "BILL_AMT2: 4.883057226018422e-07\n",
      "BILL_AMT3: 8.583291115355316e-08\n",
      "BILL_AMT4: -3.255685105450045e-08\n",
      "BILL_AMT5: -9.743645601268303e-10\n",
      "BILL_AMT6: 5.131143588389602e-07\n",
      "PAY_AMT1: -1.2832670245627844e-06\n",
      "PAY_AMT2: -3.7693352700557333e-07\n",
      "PAY_AMT3: -1.81737142041726e-07\n",
      "PAY_AMT4: -5.309567091377829e-07\n",
      "PAY_AMT5: -8.237826765092356e-07\n"
     ]
    }
   ],
   "source": [
    "#L1\n",
    "model=Lasso(alpha = 0.1)\n",
    "model.fit(train_split_x, train_split_y)\n",
    "\n",
    "ypredict = model.predict(valid_x).round()\n",
    "ypredict[ypredict>1] = 1\n",
    "ypredict[ypredict<1] = 0\n",
    "show_result(valid_y, ypredict)\n",
    "\n",
    "model=Lasso(alpha = 0.1)\n",
    "model.fit(train_x, train_y)\n",
    "ypredict=model.predict(test_x).round()\n",
    "ypredict[ypredict>1] = 1\n",
    "ypredict[ypredict<1] = 0\n",
    "generate_csv(ypredict, 'L1_Result.csv')\n",
    "\n",
    "print(\"Coefficients:\")\n",
    "for feature, coef in zip(train_x.columns, model.coef_):\n",
    "    print(f\"{feature}: {coef}\")"
   ]
  },
  {
   "cell_type": "code",
   "execution_count": 15,
   "id": "1bb2556a",
   "metadata": {},
   "outputs": [
    {
     "name": "stdout",
     "output_type": "stream",
     "text": [
      "Accuracy:  0.80875\n",
      "Precision:  0.7277227722772277\n",
      "Recall:  0.14554455445544554\n",
      "Confusion Matrix: \n",
      "[[3735   55]\n",
      " [ 863  147]]\n",
      "Coefficients:\n",
      "LIMIT_BAL: -7.429199713771168e-08\n",
      "SEX: -0.01425680187717235\n",
      "EDUCATION: -0.014601901052716571\n",
      "MARRIAGE: -0.024057311147190133\n",
      "AGE: 0.0013108988209303875\n",
      "PAY_0: 0.09524280305010707\n",
      "PAY_2: 0.018284892840090366\n",
      "PAY_3: 0.014216678008888185\n",
      "PAY_4: 0.0009659921663431533\n",
      "PAY_5: 0.008554273190546993\n",
      "PAY_6: 0.0007388271315333011\n",
      "BILL_AMT1: -7.652112485557357e-07\n",
      "BILL_AMT2: 2.752711639393941e-07\n",
      "BILL_AMT3: 7.374113850745717e-08\n",
      "BILL_AMT4: -1.1944062769853967e-07\n",
      "BILL_AMT5: -1.672200671223425e-07\n",
      "BILL_AMT6: 2.736489642666652e-07\n",
      "PAY_AMT1: -8.473424323207162e-07\n",
      "PAY_AMT2: -2.391331199043437e-07\n",
      "PAY_AMT3: 3.884958050195843e-08\n",
      "PAY_AMT4: -2.005214981109745e-07\n",
      "PAY_AMT5: -5.806097865513612e-07\n"
     ]
    }
   ],
   "source": [
    "#L2\n",
    "model=Ridge(alpha = 100)\n",
    "model.fit(train_split_x, train_split_y)\n",
    "\n",
    "ypredict = model.predict(valid_x).round()\n",
    "ypredict[ypredict>1] = 1\n",
    "ypredict[ypredict<1] = 0\n",
    "show_result(valid_y, ypredict)\n",
    "\n",
    "model=Ridge(alpha = 0.1)\n",
    "model.fit(train_x, train_y)\n",
    "ypredict=model.predict(test_x).round()\n",
    "ypredict[ypredict>1] = 1\n",
    "ypredict[ypredict<1] = 0\n",
    "generate_csv(ypredict, 'L2_Result.csv')\n",
    "\n",
    "print(\"Coefficients:\")\n",
    "for feature, coef in zip(train_x.columns, model.coef_):\n",
    "    print(f\"{feature}: {coef}\")"
   ]
  },
  {
   "cell_type": "markdown",
   "id": "0c72aeda",
   "metadata": {
    "papermill": {
     "duration": 0.003348,
     "end_time": "2023-07-21T16:02:01.301821",
     "exception": false,
     "start_time": "2023-07-21T16:02:01.298473",
     "status": "completed"
    },
    "tags": []
   },
   "source": [
    "### Decision Tree ###"
   ]
  },
  {
   "cell_type": "code",
   "execution_count": 10,
   "id": "2171c3b9",
   "metadata": {
    "execution": {
     "iopub.execute_input": "2023-07-21T16:02:01.310954Z",
     "iopub.status.busy": "2023-07-21T16:02:01.310398Z",
     "iopub.status.idle": "2023-07-21T16:02:01.590955Z",
     "shell.execute_reply": "2023-07-21T16:02:01.589956Z"
    },
    "papermill": {
     "duration": 0.287765,
     "end_time": "2023-07-21T16:02:01.593201",
     "exception": false,
     "start_time": "2023-07-21T16:02:01.305436",
     "status": "completed"
    },
    "tags": []
   },
   "outputs": [
    {
     "name": "stdout",
     "output_type": "stream",
     "text": [
      "Accuracy:  0.82875\n",
      "Precision:  0.6721611721611722\n",
      "Recall:  0.36336633663366336\n",
      "Confusion Matrix: \n",
      "[[3611  179]\n",
      " [ 643  367]]\n"
     ]
    }
   ],
   "source": [
    "#information gain\n",
    "model=DecisionTreeClassifier(criterion = 'entropy', max_depth = 4, random_state=1)\n",
    "model.fit(train_split_x, train_split_y)\n",
    "\n",
    "ypredict = model.predict(valid_x)\n",
    "show_result(valid_y, ypredict)\n",
    "\n",
    "model=DecisionTreeClassifier(criterion = 'entropy', max_depth = 4, random_state=1)\n",
    "model.fit(train_x, train_y)\n",
    "ypredict=model.predict(test_x)\n",
    "generate_csv(ypredict, 'DTIG_Result.csv')"
   ]
  },
  {
   "cell_type": "code",
   "execution_count": 11,
   "id": "ef363fcc",
   "metadata": {},
   "outputs": [
    {
     "name": "stdout",
     "output_type": "stream",
     "text": [
      "Accuracy:  0.8277083333333334\n",
      "Precision:  0.6678899082568808\n",
      "Recall:  0.3603960396039604\n",
      "Confusion Matrix: \n",
      "[[3609  181]\n",
      " [ 646  364]]\n"
     ]
    }
   ],
   "source": [
    "#gini impurity\n",
    "model=DecisionTreeClassifier(criterion = 'gini', max_depth = 4, random_state=1)\n",
    "model.fit(train_split_x, train_split_y)\n",
    "\n",
    "ypredict = model.predict(valid_x)\n",
    "show_result(valid_y, ypredict)\n",
    "\n",
    "model=DecisionTreeClassifier(criterion = 'gini', max_depth = 4, random_state=1)\n",
    "model.fit(train_x, train_y)\n",
    "ypredict=model.predict(test_x)\n",
    "generate_csv(ypredict, 'DTgini_Result.csv')"
   ]
  },
  {
   "cell_type": "markdown",
   "id": "9c0bec9d",
   "metadata": {
    "papermill": {
     "duration": 0.003477,
     "end_time": "2023-07-21T16:02:01.617665",
     "exception": false,
     "start_time": "2023-07-21T16:02:01.614188",
     "status": "completed"
    },
    "tags": []
   },
   "source": [
    "### Support Vector Machine ###"
   ]
  },
  {
   "cell_type": "code",
   "execution_count": null,
   "id": "48379431",
   "metadata": {
    "papermill": {
     "duration": 0.003363,
     "end_time": "2023-07-21T16:02:01.624748",
     "exception": false,
     "start_time": "2023-07-21T16:02:01.621385",
     "status": "completed"
    },
    "tags": []
   },
   "outputs": [],
   "source": [
    "# Training the SVM model\n",
    "start = time.time()\n",
    "model = SVC(kernel='linear', random_state=1)\n",
    "model.fit(train_split_x, train_split_y)\n",
    "print(\"Training time: \", time.time() - start)\n",
    "print()\n",
    "\n",
    "# Evaluating the SVM model on the validation set\n",
    "ypredict = model.predict(valid_x)\n",
    "show_result(valid_y, ypredict)\n",
    "\n",
    "# Generating CSV file for the SVM model's predictions on the test set\n",
    "model = SVC(kernel='linear', random_state=1)\n",
    "model.fit(train_x, train_y)\n",
    "ypredict = model.predict(test_x)\n",
    "generate_csv(ypredict, 'SVM_Result.csv')"
   ]
  },
  {
   "cell_type": "code",
   "execution_count": 13,
   "id": "285258b2",
   "metadata": {},
   "outputs": [
    {
     "name": "stdout",
     "output_type": "stream",
     "text": [
      "Gamma:  1.3202465493710435e-11\n",
      "Training time:  35.70031189918518\n",
      "\n",
      "Accuracy:  0.5747916666666667\n",
      "Precision:  0.2872472141972761\n",
      "Recall:  0.689108910891089\n",
      "Confusion Matrix: \n",
      "[[2063 1727]\n",
      " [ 314  696]]\n"
     ]
    }
   ],
   "source": [
    "# Training the SVM model\n",
    "start = time.time()\n",
    "model = SVC(kernel='rbf', class_weight = 'balanced', random_state=1)\n",
    "model.fit(train_split_x, train_split_y)\n",
    "print(\"Gamma: \", model._gamma)\n",
    "print(\"Training time: \", time.time() - start)\n",
    "print()\n",
    "\n",
    "# Evaluating the SVM model on the validation set\n",
    "ypredict = model.predict(valid_x)\n",
    "show_result(valid_y, ypredict)\n",
    "\n",
    "# Generating CSV file for the SVM model's predictions on the test set\n",
    "model = SVC(kernel='rbf', class_weight = 'balanced', random_state=1)\n",
    "model.fit(train_x, train_y)\n",
    "ypredict = model.predict(test_x)\n",
    "generate_csv(ypredict, 'SVM_rbf_Result.csv')"
   ]
  },
  {
   "cell_type": "markdown",
   "id": "813ecaae",
   "metadata": {
    "papermill": {
     "duration": 0.003524,
     "end_time": "2023-07-21T16:02:01.632079",
     "exception": false,
     "start_time": "2023-07-21T16:02:01.628555",
     "status": "completed"
    },
    "tags": []
   },
   "source": [
    "### K-Nearest Neighbor ###"
   ]
  },
  {
   "cell_type": "code",
   "execution_count": 4,
   "id": "fcee7a32",
   "metadata": {
    "papermill": {
     "duration": 0.003326,
     "end_time": "2023-07-21T16:02:01.638936",
     "exception": false,
     "start_time": "2023-07-21T16:02:01.635610",
     "status": "completed"
    },
    "tags": []
   },
   "outputs": [
    {
     "name": "stdout",
     "output_type": "stream",
     "text": [
      "N = 5\n",
      "Accuracy:  0.7666666666666667\n",
      "Precision:  0.38866396761133604\n",
      "Recall:  0.1900990099009901\n",
      "Confusion Matrix: \n",
      "[[3488  302]\n",
      " [ 818  192]]\n",
      "\n",
      "N = 10\n",
      "Accuracy:  0.7875\n",
      "Precision:  0.4772727272727273\n",
      "Recall:  0.10396039603960396\n",
      "Confusion Matrix: \n",
      "[[3675  115]\n",
      " [ 905  105]]\n",
      "\n",
      "N = 20\n",
      "Accuracy:  0.7885416666666667\n",
      "Precision:  0.48366013071895425\n",
      "Recall:  0.07326732673267326\n",
      "Confusion Matrix: \n",
      "[[3711   79]\n",
      " [ 936   74]]\n",
      "\n",
      "N = 50\n",
      "Accuracy:  0.7902083333333333\n",
      "Precision:  0.5151515151515151\n",
      "Recall:  0.0504950495049505\n",
      "Confusion Matrix: \n",
      "[[3742   48]\n",
      " [ 959   51]]\n",
      "\n",
      "N = 100\n",
      "Accuracy:  0.7910416666666666\n",
      "Precision:  0.5573770491803278\n",
      "Recall:  0.033663366336633666\n",
      "Confusion Matrix: \n",
      "[[3763   27]\n",
      " [ 976   34]]\n",
      "\n",
      "N = 200\n",
      "Accuracy:  0.7902083333333333\n",
      "Precision:  0.6153846153846154\n",
      "Recall:  0.007920792079207921\n",
      "Confusion Matrix: \n",
      "[[3785    5]\n",
      " [1002    8]]\n",
      "\n"
     ]
    }
   ],
   "source": [
    "neighbors = [5,10,20,50,100,200]\n",
    "best_acc = 0\n",
    "for i in neighbors:\n",
    "    model=KNeighborsClassifier(n_neighbors = i)\n",
    "    model.fit(train_split_x, train_split_y)\n",
    "    print(\"N =\", i)\n",
    "\n",
    "    ypredict = model.predict(valid_x)\n",
    "    acc = show_result(valid_y, ypredict)\n",
    "    print()\n",
    "    if acc > best_acc:\n",
    "        best_acc = acc\n",
    "        best_n = i    \n",
    "\n",
    "model=KNeighborsClassifier(n_neighbors = 20)\n",
    "model.fit(train_x, train_y)\n",
    "ypredict=model.predict(test_x)\n",
    "generate_csv(ypredict, 'KNN_Result.csv')"
   ]
  },
  {
   "cell_type": "markdown",
   "id": "0a84fab1",
   "metadata": {
    "papermill": {
     "duration": 0.003266,
     "end_time": "2023-07-21T16:02:01.645727",
     "exception": false,
     "start_time": "2023-07-21T16:02:01.642461",
     "status": "completed"
    },
    "tags": []
   },
   "source": [
    "# Step 3. Conclusion #\n",
    "\n",
    "Conduct a comparison among the four algorithms, considering factors such as performance, efficiency, and any additional insights you would like to share regarding this assignment.\n"
   ]
  },
  {
   "cell_type": "markdown",
   "id": "c601b05f",
   "metadata": {},
   "source": [
    "## Model Comparison\n",
    "\n",
    "### Linear Regression\n",
    "* 由於資料集中有imbalnce的情況，使用L1時模型全部都猜Label 0，無法有效進行預測。改為L2時，有稍微改善此狀況，但還是幾乎都預測為0，因此表現仍然不佳。\n",
    "\n",
    "### Decision Tree\n",
    "* 使用Gini 或 Information Gain對模型表現並無明顯影響。\n",
    "* 將模型max depth設為4，會比未做限制時有更好的表現，推測是限制深度減少了overfitting。\n",
    "\n",
    "### SVM\n",
    "* Linear Kernel: Gamma = None, C = 1, 訓練時間非常長，可能需要PCA等方法降維來提升速度，模型表現也不佳。\n",
    "* RBF Kernel: Gamma = 'scale', C = 1, 訓練時間約30 sec, 不用balanced_weight的話，會因為資料分布不均而導致模型都猜同一個label；使用balanced_weight後，模型對於test set的表現會有明顯提升。\n",
    "\n",
    "### K-Nearest Neighbor\n",
    "* 設置越大的n值，模型就越傾向於預測label 0。\n",
    "* 雖然訓練時，n = 100有最好的Accuracy，但那是由於大量猜0而造成的，最終選擇n = 50會得到更好的表現。\n",
    "\n",
    "## Result Comparison\n",
    "\n",
    "### Accuracy\n",
    "* Decision Tree(64.73%) > SVM(61.14%) > Linear Regression(56.73%) > KNN (54.39%)\n",
    "\n",
    "### Run-time\n",
    "* SVM >> others\n",
    "\n",
    "根據實驗結果，在此task中Decision Tree會是一個比較合適的選項，在擁有較短的訓練時間的同時，能得到最好的表現。\n"
   ]
  }
 ],
 "metadata": {
  "kernelspec": {
   "display_name": "Python 3",
   "language": "python",
   "name": "python3"
  },
  "language_info": {
   "codemirror_mode": {
    "name": "ipython",
    "version": 3
   },
   "file_extension": ".py",
   "mimetype": "text/x-python",
   "name": "python",
   "nbconvert_exporter": "python",
   "pygments_lexer": "ipython3",
   "version": "3.6.15"
  },
  "papermill": {
   "default_parameters": {},
   "duration": 14.555682,
   "end_time": "2023-07-21T16:02:02.571103",
   "environment_variables": {},
   "exception": null,
   "input_path": "__notebook__.ipynb",
   "output_path": "__notebook__.ipynb",
   "parameters": {},
   "start_time": "2023-07-21T16:01:48.015421",
   "version": "2.4.0"
  }
 },
 "nbformat": 4,
 "nbformat_minor": 5
}
