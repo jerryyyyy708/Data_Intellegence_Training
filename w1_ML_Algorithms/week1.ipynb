{
 "cells": [
  {
   "cell_type": "code",
   "execution_count": 1,
   "id": "df073e42",
   "metadata": {
    "_cell_guid": "b1076dfc-b9ad-4769-8c92-a6c4dae69d19",
    "_uuid": "8f2839f25d086af736a60e9eeb907d3b93b6e0e5",
    "execution": {
     "iopub.execute_input": "2023-07-23T08:14:39.840735Z",
     "iopub.status.busy": "2023-07-23T08:14:39.840306Z",
     "iopub.status.idle": "2023-07-23T08:14:39.854685Z",
     "shell.execute_reply": "2023-07-23T08:14:39.853310Z"
    },
    "papermill": {
     "duration": 0.024136,
     "end_time": "2023-07-23T08:14:39.857383",
     "exception": false,
     "start_time": "2023-07-23T08:14:39.833247",
     "status": "completed"
    },
    "tags": []
   },
   "outputs": [
    {
     "name": "stdout",
     "output_type": "stream",
     "text": [
      "/kaggle/input/nycu-dilab-2023-onboard/data_train.csv\n",
      "/kaggle/input/nycu-dilab-2023-onboard/data_test.csv\n",
      "/kaggle/input/nycu-dilab-2023-onboard/answer_train.csv\n",
      "/kaggle/input/nycu-dilab-2023-onboard/answer_sample.csv\n"
     ]
    }
   ],
   "source": [
    "# This Python 3 environment comes with many helpful analytics libraries installed\n",
    "# It is defined by the kaggle/python Docker image: https://github.com/kaggle/docker-python\n",
    "# For example, here's several helpful packages to load\n",
    "\n",
    "import numpy as np # linear algebra\n",
    "import pandas as pd # data processing, CSV file I/O (e.g. pd.read_csv)\n",
    "\n",
    "# Input data files are available in the read-only \"../input/\" directory\n",
    "# For example, running this (by clicking run or pressing Shift+Enter) will list all files under the input directory\n",
    "\n",
    "import os\n",
    "for dirname, _, filenames in os.walk('/kaggle/input'):\n",
    "    for filename in filenames:\n",
    "        print(os.path.join(dirname, filename))\n",
    "\n",
    "# You can write up to 20GB to the current directory (/kaggle/working/) that gets preserved as output when you create a version using \"Save & Run All\" \n",
    "# You can also write temporary files to /kaggle/temp/, but they won't be saved outside of the current session"
   ]
  },
  {
   "cell_type": "markdown",
   "id": "f4a63e27",
   "metadata": {
    "papermill": {
     "duration": 0.004661,
     "end_time": "2023-07-23T08:14:39.867132",
     "exception": false,
     "start_time": "2023-07-23T08:14:39.862471",
     "status": "completed"
    },
    "tags": []
   },
   "source": [
    "# Task Instructions\n",
    "\n",
    "Step 0. Import **ALL** packages you need in **ONE** cell   \n",
    "\n",
    "Step 1. Load Data\n",
    "\n",
    "Step 2. Model Comparison and Discussion \n",
    "\n",
    "Step 3. Conclusion\n",
    "\n",
    " "
   ]
  },
  {
   "cell_type": "markdown",
   "id": "a858f831",
   "metadata": {
    "papermill": {
     "duration": 0.005167,
     "end_time": "2023-07-23T08:14:39.877697",
     "exception": false,
     "start_time": "2023-07-23T08:14:39.872530",
     "status": "completed"
    },
    "tags": []
   },
   "source": [
    "# Step 0. Import **ALL** packages you need in **ONE** cell  "
   ]
  },
  {
   "cell_type": "code",
   "execution_count": 2,
   "id": "57bfe722",
   "metadata": {
    "execution": {
     "iopub.execute_input": "2023-07-23T08:14:39.890491Z",
     "iopub.status.busy": "2023-07-23T08:14:39.889710Z",
     "iopub.status.idle": "2023-07-23T08:14:41.680780Z",
     "shell.execute_reply": "2023-07-23T08:14:41.679379Z"
    },
    "papermill": {
     "duration": 1.800877,
     "end_time": "2023-07-23T08:14:41.683480",
     "exception": false,
     "start_time": "2023-07-23T08:14:39.882603",
     "status": "completed"
    },
    "tags": []
   },
   "outputs": [],
   "source": [
    "import pandas as pd\n",
    "from sklearn.linear_model import LinearRegression, Lasso, Ridge\n",
    "from sklearn.tree import DecisionTreeClassifier\n",
    "from sklearn.neighbors import KNeighborsClassifier\n",
    "from sklearn.svm import SVC\n",
    "\n",
    "from sklearn import tree\n",
    "from sklearn.metrics import confusion_matrix\n",
    "from sklearn.metrics import recall_score,accuracy_score\n",
    "from sklearn.metrics import precision_score\n",
    "from sklearn.model_selection import train_test_split\n",
    "\n",
    "import csv\n",
    "import time\n",
    "\n",
    "def generate_csv(ypredict, filename = 'result.csv'):\n",
    "    with open(filename,'w',newline = '') as fd:\n",
    "        writer = csv.writer(fd)\n",
    "        writer.writerow(['index','default.payment.next.month'])\n",
    "\n",
    "    for index,pred in enumerate(ypredict):\n",
    "        with open(filename,'a',newline = '') as fd:\n",
    "            writer = csv.writer(fd)\n",
    "            writer.writerow([index,pred])\n",
    "            \n",
    "def show_result(groud_truth, prediction):\n",
    "    print(\"Accuracy: \", accuracy_score(groud_truth, prediction))\n",
    "    print(\"Precision: \",precision_score(groud_truth, prediction))\n",
    "    print(\"Recall: \",recall_score(groud_truth, prediction))\n",
    "    print(\"Confusion Matrix: \")\n",
    "    print(confusion_matrix(groud_truth, prediction))\n",
    "    return accuracy_score(groud_truth, prediction)"
   ]
  },
  {
   "cell_type": "markdown",
   "id": "a0e53cc6",
   "metadata": {
    "papermill": {
     "duration": 0.004524,
     "end_time": "2023-07-23T08:14:41.693514",
     "exception": false,
     "start_time": "2023-07-23T08:14:41.688990",
     "status": "completed"
    },
    "tags": []
   },
   "source": [
    "# Step 1. Load Data"
   ]
  },
  {
   "cell_type": "code",
   "execution_count": 3,
   "id": "0e521625",
   "metadata": {
    "execution": {
     "iopub.execute_input": "2023-07-23T08:14:41.707451Z",
     "iopub.status.busy": "2023-07-23T08:14:41.707064Z",
     "iopub.status.idle": "2023-07-23T08:14:41.922287Z",
     "shell.execute_reply": "2023-07-23T08:14:41.921072Z"
    },
    "papermill": {
     "duration": 0.226203,
     "end_time": "2023-07-23T08:14:41.924968",
     "exception": false,
     "start_time": "2023-07-23T08:14:41.698765",
     "status": "completed"
    },
    "tags": []
   },
   "outputs": [],
   "source": [
    "train_x = pd.read_csv('/kaggle/input/nycu-dilab-2023-onboard/data_train.csv')\n",
    "train_x = train_x.iloc[:,1:-1]\n",
    "train_y = pd.read_csv('/kaggle/input/nycu-dilab-2023-onboard/answer_train.csv')\n",
    "train_y = train_y.iloc[:,-1]\n",
    "test_x = pd.read_csv('/kaggle/input/nycu-dilab-2023-onboard/data_test.csv')\n",
    "test_x = test_x.iloc[:,1:-1]\n",
    "train_split_x, valid_x, train_split_y, valid_y = train_test_split(train_x, train_y, test_size = 0.2, random_state = 1)"
   ]
  },
  {
   "cell_type": "markdown",
   "id": "625ee402",
   "metadata": {
    "papermill": {
     "duration": 0.00456,
     "end_time": "2023-07-23T08:14:41.934562",
     "exception": false,
     "start_time": "2023-07-23T08:14:41.930002",
     "status": "completed"
    },
    "tags": []
   },
   "source": [
    "# Step 2. Algorithms Comparison and Discussion \n",
    "\n",
    "**\"In addition to the parameters listed, please provide an analytical discussion for each model as described below. You can also supplement any other parameters that were found to have an impact on the model during the process.\"**\n",
    "\n",
    "* Linear Regression: L1/L2   - The weight difference of different features under L1 and L2\n",
    "* Decision Tree: IG/Gini - The difference between the results of two different index pairs\n",
    "* Support Vector Machine: Gamma/C - The effect of each of the two parameters on the model\n",
    "* K-Nearest Neighbor: K  - Effect of different K values on the model\n"
   ]
  },
  {
   "cell_type": "markdown",
   "id": "1782b242",
   "metadata": {
    "papermill": {
     "duration": 0.004721,
     "end_time": "2023-07-23T08:14:41.944109",
     "exception": false,
     "start_time": "2023-07-23T08:14:41.939388",
     "status": "completed"
    },
    "tags": []
   },
   "source": [
    "### Linear Regression ###"
   ]
  },
  {
   "cell_type": "code",
   "execution_count": 4,
   "id": "18a4c5d1",
   "metadata": {
    "execution": {
     "iopub.execute_input": "2023-07-23T08:14:41.956068Z",
     "iopub.status.busy": "2023-07-23T08:14:41.955644Z",
     "iopub.status.idle": "2023-07-23T08:14:42.558003Z",
     "shell.execute_reply": "2023-07-23T08:14:42.556829Z"
    },
    "papermill": {
     "duration": 0.611714,
     "end_time": "2023-07-23T08:14:42.560690",
     "exception": false,
     "start_time": "2023-07-23T08:14:41.948976",
     "status": "completed"
    },
    "tags": []
   },
   "outputs": [
    {
     "name": "stdout",
     "output_type": "stream",
     "text": [
      "Accuracy:  0.7895833333333333\n",
      "Precision:  0.0\n",
      "Recall:  0.0\n",
      "Confusion Matrix: \n",
      "[[3790    0]\n",
      " [1010    0]]\n"
     ]
    },
    {
     "name": "stderr",
     "output_type": "stream",
     "text": [
      "/opt/conda/lib/python3.10/site-packages/sklearn/metrics/_classification.py:1344: UndefinedMetricWarning: Precision is ill-defined and being set to 0.0 due to no predicted samples. Use `zero_division` parameter to control this behavior.\n",
      "  _warn_prf(average, modifier, msg_start, len(result))\n"
     ]
    },
    {
     "name": "stdout",
     "output_type": "stream",
     "text": [
      "Coefficients:\n",
      "LIMIT_BAL: -3.86213945302264e-07\n",
      "SEX: -0.0\n",
      "EDUCATION: -0.0\n",
      "MARRIAGE: -0.0\n",
      "AGE: 0.00034047611985944554\n",
      "PAY_0: 0.022401881075170705\n",
      "PAY_2: 0.0\n",
      "PAY_3: 0.0\n",
      "PAY_4: 0.0\n",
      "PAY_5: 0.0\n",
      "PAY_6: 0.0\n",
      "BILL_AMT1: -7.330477628529089e-07\n",
      "BILL_AMT2: 4.883057226018414e-07\n",
      "BILL_AMT3: 8.583291115355317e-08\n",
      "BILL_AMT4: -3.255685105450036e-08\n",
      "BILL_AMT5: -9.74364560126634e-10\n",
      "BILL_AMT6: 5.131143588389601e-07\n",
      "PAY_AMT1: -1.283267024562784e-06\n",
      "PAY_AMT2: -3.7693352700557296e-07\n",
      "PAY_AMT3: -1.817371420417261e-07\n",
      "PAY_AMT4: -5.309567091377825e-07\n",
      "PAY_AMT5: -8.237826765092349e-07\n"
     ]
    }
   ],
   "source": [
    "#L1\n",
    "model=Lasso(alpha = 0.1)\n",
    "model.fit(train_split_x, train_split_y)\n",
    "\n",
    "ypredict = model.predict(valid_x).round()\n",
    "ypredict[ypredict>1] = 1\n",
    "ypredict[ypredict<1] = 0\n",
    "show_result(valid_y, ypredict)\n",
    "\n",
    "model=Lasso(alpha = 0.1)\n",
    "model.fit(train_x, train_y)\n",
    "ypredict=model.predict(test_x).round()\n",
    "ypredict[ypredict>1] = 1\n",
    "ypredict[ypredict<1] = 0\n",
    "generate_csv(ypredict, 'L1_Result.csv')\n",
    "\n",
    "print(\"Coefficients:\")\n",
    "for feature, coef in zip(train_x.columns, model.coef_):\n",
    "    print(f\"{feature}: {coef}\")"
   ]
  },
  {
   "cell_type": "code",
   "execution_count": 5,
   "id": "b053ee3b",
   "metadata": {
    "execution": {
     "iopub.execute_input": "2023-07-23T08:14:42.572902Z",
     "iopub.status.busy": "2023-07-23T08:14:42.572458Z",
     "iopub.status.idle": "2023-07-23T08:14:42.869373Z",
     "shell.execute_reply": "2023-07-23T08:14:42.867907Z"
    },
    "papermill": {
     "duration": 0.306456,
     "end_time": "2023-07-23T08:14:42.872331",
     "exception": false,
     "start_time": "2023-07-23T08:14:42.565875",
     "status": "completed"
    },
    "tags": []
   },
   "outputs": [
    {
     "name": "stdout",
     "output_type": "stream",
     "text": [
      "Accuracy:  0.80875\n",
      "Precision:  0.7277227722772277\n",
      "Recall:  0.14554455445544554\n",
      "Confusion Matrix: \n",
      "[[3735   55]\n",
      " [ 863  147]]\n",
      "Coefficients:\n",
      "LIMIT_BAL: -7.429199713770805e-08\n",
      "SEX: -0.014256801877172189\n",
      "EDUCATION: -0.014601901052716587\n",
      "MARRIAGE: -0.024057311147190147\n",
      "AGE: 0.0013108988209303862\n",
      "PAY_0: 0.0952428030501068\n",
      "PAY_2: 0.01828489284009101\n",
      "PAY_3: 0.014216678008888844\n",
      "PAY_4: 0.0009659921663427467\n",
      "PAY_5: 0.008554273190545105\n",
      "PAY_6: 0.0007388271315350133\n",
      "BILL_AMT1: -7.65211248555743e-07\n",
      "BILL_AMT2: 2.752711639393993e-07\n",
      "BILL_AMT3: 7.374113850745361e-08\n",
      "BILL_AMT4: -1.1944062769852974e-07\n",
      "BILL_AMT5: -1.672200671223398e-07\n",
      "BILL_AMT6: 2.7364896426665346e-07\n",
      "PAY_AMT1: -8.473424323207212e-07\n",
      "PAY_AMT2: -2.3913311990434064e-07\n",
      "PAY_AMT3: 3.8849580501954106e-08\n",
      "PAY_AMT4: -2.005214981109826e-07\n",
      "PAY_AMT5: -5.806097865513522e-07\n"
     ]
    }
   ],
   "source": [
    "#L2\n",
    "model=Ridge(alpha = 100)\n",
    "model.fit(train_split_x, train_split_y)\n",
    "\n",
    "ypredict = model.predict(valid_x).round()\n",
    "ypredict[ypredict>1] = 1\n",
    "ypredict[ypredict<1] = 0\n",
    "show_result(valid_y, ypredict)\n",
    "\n",
    "model=Ridge(alpha = 0.1)\n",
    "model.fit(train_x, train_y)\n",
    "ypredict=model.predict(test_x).round()\n",
    "ypredict[ypredict>1] = 1\n",
    "ypredict[ypredict<1] = 0\n",
    "generate_csv(ypredict, 'L2_Result.csv')\n",
    "\n",
    "print(\"Coefficients:\")\n",
    "for feature, coef in zip(train_x.columns, model.coef_):\n",
    "    print(f\"{feature}: {coef}\")"
   ]
  },
  {
   "cell_type": "markdown",
   "id": "404bb23d",
   "metadata": {
    "papermill": {
     "duration": 0.005074,
     "end_time": "2023-07-23T08:14:42.883011",
     "exception": false,
     "start_time": "2023-07-23T08:14:42.877937",
     "status": "completed"
    },
    "tags": []
   },
   "source": [
    "### Decision Tree ###"
   ]
  },
  {
   "cell_type": "code",
   "execution_count": 6,
   "id": "9f7c61aa",
   "metadata": {
    "execution": {
     "iopub.execute_input": "2023-07-23T08:14:42.895766Z",
     "iopub.status.busy": "2023-07-23T08:14:42.895374Z",
     "iopub.status.idle": "2023-07-23T08:14:43.429910Z",
     "shell.execute_reply": "2023-07-23T08:14:43.428799Z"
    },
    "papermill": {
     "duration": 0.544932,
     "end_time": "2023-07-23T08:14:43.433259",
     "exception": false,
     "start_time": "2023-07-23T08:14:42.888327",
     "status": "completed"
    },
    "tags": []
   },
   "outputs": [
    {
     "name": "stdout",
     "output_type": "stream",
     "text": [
      "Accuracy:  0.82875\n",
      "Precision:  0.6721611721611722\n",
      "Recall:  0.36336633663366336\n",
      "Confusion Matrix: \n",
      "[[3611  179]\n",
      " [ 643  367]]\n"
     ]
    }
   ],
   "source": [
    "#information gain\n",
    "model=DecisionTreeClassifier(criterion = 'entropy', max_depth = 4, random_state=1)\n",
    "model.fit(train_split_x, train_split_y)\n",
    "\n",
    "ypredict = model.predict(valid_x)\n",
    "show_result(valid_y, ypredict)\n",
    "\n",
    "model=DecisionTreeClassifier(criterion = 'entropy', max_depth = 4, random_state=1)\n",
    "model.fit(train_x, train_y)\n",
    "ypredict=model.predict(test_x)\n",
    "generate_csv(ypredict, 'DTIG_Result.csv')"
   ]
  },
  {
   "cell_type": "code",
   "execution_count": 7,
   "id": "a94079c6",
   "metadata": {
    "execution": {
     "iopub.execute_input": "2023-07-23T08:14:43.453616Z",
     "iopub.status.busy": "2023-07-23T08:14:43.452337Z",
     "iopub.status.idle": "2023-07-23T08:14:43.936286Z",
     "shell.execute_reply": "2023-07-23T08:14:43.934743Z"
    },
    "papermill": {
     "duration": 0.497671,
     "end_time": "2023-07-23T08:14:43.939619",
     "exception": false,
     "start_time": "2023-07-23T08:14:43.441948",
     "status": "completed"
    },
    "tags": []
   },
   "outputs": [
    {
     "name": "stdout",
     "output_type": "stream",
     "text": [
      "Accuracy:  0.8277083333333334\n",
      "Precision:  0.6678899082568808\n",
      "Recall:  0.3603960396039604\n",
      "Confusion Matrix: \n",
      "[[3609  181]\n",
      " [ 646  364]]\n"
     ]
    }
   ],
   "source": [
    "#gini impurity\n",
    "model=DecisionTreeClassifier(criterion = 'gini', max_depth = 4, random_state=1)\n",
    "model.fit(train_split_x, train_split_y)\n",
    "\n",
    "ypredict = model.predict(valid_x)\n",
    "show_result(valid_y, ypredict)\n",
    "\n",
    "model=DecisionTreeClassifier(criterion = 'gini', max_depth = 4, random_state=1)\n",
    "model.fit(train_x, train_y)\n",
    "ypredict=model.predict(test_x)\n",
    "generate_csv(ypredict, 'DTgini_Result.csv')"
   ]
  },
  {
   "cell_type": "markdown",
   "id": "7a994ff5",
   "metadata": {
    "papermill": {
     "duration": 0.005204,
     "end_time": "2023-07-23T08:14:43.950978",
     "exception": false,
     "start_time": "2023-07-23T08:14:43.945774",
     "status": "completed"
    },
    "tags": []
   },
   "source": [
    "### Support Vector Machine ###"
   ]
  },
  {
   "cell_type": "code",
   "execution_count": 8,
   "id": "dda6e82d",
   "metadata": {
    "execution": {
     "iopub.execute_input": "2023-07-23T08:14:43.963783Z",
     "iopub.status.busy": "2023-07-23T08:14:43.963397Z",
     "iopub.status.idle": "2023-07-23T17:10:27.814832Z",
     "shell.execute_reply": "2023-07-23T17:10:27.813114Z"
    },
    "papermill": {
     "duration": 32143.861763,
     "end_time": "2023-07-23T17:10:27.818305",
     "exception": false,
     "start_time": "2023-07-23T08:14:43.956542",
     "status": "completed"
    },
    "tags": []
   },
   "outputs": [
    {
     "name": "stdout",
     "output_type": "stream",
     "text": [
      "Training time:  14236.021749258041\n",
      "\n",
      "Accuracy:  0.7735416666666667\n",
      "Precision:  0.4123006833712984\n",
      "Recall:  0.1792079207920792\n",
      "Confusion Matrix: \n",
      "[[3532  258]\n",
      " [ 829  181]]\n"
     ]
    }
   ],
   "source": [
    "# Training the SVM model\n",
    "start = time.time()\n",
    "model = SVC(kernel='linear', random_state=1)\n",
    "model.fit(train_split_x, train_split_y)\n",
    "print(\"Training time: \", time.time() - start)\n",
    "print()\n",
    "\n",
    "# Evaluating the SVM model on the validation set\n",
    "ypredict = model.predict(valid_x)\n",
    "show_result(valid_y, ypredict)\n",
    "\n",
    "# Generating CSV file for the SVM model's predictions on the test set\n",
    "model = SVC(kernel='linear', random_state=1)\n",
    "model.fit(train_x, train_y)\n",
    "ypredict = model.predict(test_x)\n",
    "generate_csv(ypredict, 'SVM_Result.csv')"
   ]
  },
  {
   "cell_type": "code",
   "execution_count": 9,
   "id": "beb02aae",
   "metadata": {
    "execution": {
     "iopub.execute_input": "2023-07-23T17:10:27.834521Z",
     "iopub.status.busy": "2023-07-23T17:10:27.834063Z",
     "iopub.status.idle": "2023-07-23T17:11:42.364498Z",
     "shell.execute_reply": "2023-07-23T17:11:42.363001Z"
    },
    "papermill": {
     "duration": 74.541857,
     "end_time": "2023-07-23T17:11:42.367371",
     "exception": false,
     "start_time": "2023-07-23T17:10:27.825514",
     "status": "completed"
    },
    "tags": []
   },
   "outputs": [
    {
     "name": "stdout",
     "output_type": "stream",
     "text": [
      "Gamma:  1.3202465493710435e-11\n",
      "Training time:  23.763117790222168\n",
      "\n",
      "Accuracy:  0.5747916666666667\n",
      "Precision:  0.2872472141972761\n",
      "Recall:  0.689108910891089\n",
      "Confusion Matrix: \n",
      "[[2063 1727]\n",
      " [ 314  696]]\n"
     ]
    }
   ],
   "source": [
    "# Training the SVM model\n",
    "start = time.time()\n",
    "model = SVC(kernel='rbf', class_weight = 'balanced', random_state=1)\n",
    "model.fit(train_split_x, train_split_y)\n",
    "print(\"Gamma: \", model._gamma)\n",
    "print(\"Training time: \", time.time() - start)\n",
    "print()\n",
    "\n",
    "# Evaluating the SVM model on the validation set\n",
    "ypredict = model.predict(valid_x)\n",
    "show_result(valid_y, ypredict)\n",
    "\n",
    "# Generating CSV file for the SVM model's predictions on the test set\n",
    "model = SVC(kernel='rbf', class_weight = 'balanced', random_state=1)\n",
    "model.fit(train_x, train_y)\n",
    "ypredict = model.predict(test_x)\n",
    "generate_csv(ypredict, 'SVM_rbf_Result.csv')"
   ]
  },
  {
   "cell_type": "markdown",
   "id": "937ad743",
   "metadata": {
    "papermill": {
     "duration": 0.005557,
     "end_time": "2023-07-23T17:11:42.379284",
     "exception": false,
     "start_time": "2023-07-23T17:11:42.373727",
     "status": "completed"
    },
    "tags": []
   },
   "source": [
    "### K-Nearest Neighbor ###"
   ]
  },
  {
   "cell_type": "code",
   "execution_count": 10,
   "id": "a6bac29a",
   "metadata": {
    "execution": {
     "iopub.execute_input": "2023-07-23T17:11:42.393199Z",
     "iopub.status.busy": "2023-07-23T17:11:42.392749Z",
     "iopub.status.idle": "2023-07-23T17:11:45.574083Z",
     "shell.execute_reply": "2023-07-23T17:11:45.572993Z"
    },
    "papermill": {
     "duration": 3.191591,
     "end_time": "2023-07-23T17:11:45.576758",
     "exception": false,
     "start_time": "2023-07-23T17:11:42.385167",
     "status": "completed"
    },
    "tags": []
   },
   "outputs": [
    {
     "name": "stdout",
     "output_type": "stream",
     "text": [
      "N = 5\n",
      "Accuracy:  0.7664583333333334\n",
      "Precision:  0.38742393509127787\n",
      "Recall:  0.1891089108910891\n",
      "Confusion Matrix: \n",
      "[[3488  302]\n",
      " [ 819  191]]\n",
      "\n",
      "N = 10\n",
      "Accuracy:  0.7872916666666666\n",
      "Precision:  0.4751131221719457\n",
      "Recall:  0.10396039603960396\n",
      "Confusion Matrix: \n",
      "[[3674  116]\n",
      " [ 905  105]]\n",
      "\n",
      "N = 20\n",
      "Accuracy:  0.7885416666666667\n",
      "Precision:  0.48366013071895425\n",
      "Recall:  0.07326732673267326\n",
      "Confusion Matrix: \n",
      "[[3711   79]\n",
      " [ 936   74]]\n",
      "\n",
      "N = 50\n",
      "Accuracy:  0.7902083333333333\n",
      "Precision:  0.5151515151515151\n",
      "Recall:  0.0504950495049505\n",
      "Confusion Matrix: \n",
      "[[3742   48]\n",
      " [ 959   51]]\n",
      "\n",
      "N = 100\n",
      "Accuracy:  0.7910416666666666\n",
      "Precision:  0.5573770491803278\n",
      "Recall:  0.033663366336633666\n",
      "Confusion Matrix: \n",
      "[[3763   27]\n",
      " [ 976   34]]\n",
      "\n",
      "N = 200\n",
      "Accuracy:  0.7902083333333333\n",
      "Precision:  0.6153846153846154\n",
      "Recall:  0.007920792079207921\n",
      "Confusion Matrix: \n",
      "[[3785    5]\n",
      " [1002    8]]\n",
      "\n"
     ]
    }
   ],
   "source": [
    "neighbors = [5,10,20,50,100,200]\n",
    "best_acc = 0\n",
    "for i in neighbors:\n",
    "    model=KNeighborsClassifier(n_neighbors = i)\n",
    "    model.fit(train_split_x, train_split_y)\n",
    "    print(\"N =\", i)\n",
    "\n",
    "    ypredict = model.predict(valid_x)\n",
    "    acc = show_result(valid_y, ypredict)\n",
    "    print()\n",
    "    if acc > best_acc:\n",
    "        best_acc = acc\n",
    "        best_n = i    \n",
    "\n",
    "model=KNeighborsClassifier(n_neighbors = 50)\n",
    "model.fit(train_x, train_y)\n",
    "ypredict=model.predict(test_x)\n",
    "generate_csv(ypredict, 'KNN_Result.csv')"
   ]
  },
  {
   "cell_type": "markdown",
   "id": "5acfa7f7",
   "metadata": {
    "papermill": {
     "duration": 0.005839,
     "end_time": "2023-07-23T17:11:45.589038",
     "exception": false,
     "start_time": "2023-07-23T17:11:45.583199",
     "status": "completed"
    },
    "tags": []
   },
   "source": [
    "# Step 3. Conclusion #\n",
    "\n",
    "Conduct a comparison among the four algorithms, considering factors such as performance, efficiency, and any additional insights you would like to share regarding this assignment.\n"
   ]
  },
  {
   "cell_type": "markdown",
   "id": "fed6a9ac",
   "metadata": {
    "papermill": {
     "duration": 0.00586,
     "end_time": "2023-07-23T17:11:45.600959",
     "exception": false,
     "start_time": "2023-07-23T17:11:45.595099",
     "status": "completed"
    },
    "tags": []
   },
   "source": [
    "## Model Comparison\n",
    "\n",
    "### Linear Regression\n",
    "* 由於資料集中有imbalnce的情況，使用L1時模型全部都猜Label 0，無法有效進行預測。改為L2時，有稍微改善此狀況，但還是幾乎都預測為0，因此表現仍然不佳。\n",
    "\n",
    "### Decision Tree\n",
    "* 使用Gini 或 Information Gain對模型表現並無明顯影響。\n",
    "* 將模型max depth設為4，會比未做限制時有更好的表現，推測是限制深度減少了overfitting。\n",
    "\n",
    "### SVM\n",
    "* Linear Kernel: Gamma = None, C = 1, 訓練時間非常長，可能需要PCA等方法降維來提升速度，模型表現也不佳。\n",
    "* RBF Kernel: Gamma = 'scale', C = 1, 訓練時間約30 sec, 不用balanced_weight的話，會因為資料分布不均而導致模型都猜同一個label；使用balanced_weight後，模型對於test set的表現會有明顯提升。\n",
    "\n",
    "### K-Nearest Neighbor\n",
    "* 設置越大的n值，模型就越傾向於預測label 0。\n",
    "* 雖然訓練時，n = 100有最好的Accuracy，但那是由於大量猜0而造成的，最終選擇n = 50會得到更好的表現。\n",
    "\n",
    "## Result Comparison\n",
    "\n",
    "### Accuracy\n",
    "* Decision Tree(64.73%) > SVM(61.14%) > Linear Regression(56.73%) > KNN (54.39%)\n",
    "\n",
    "### Run-time\n",
    "* SVM >> others\n",
    "\n",
    "根據實驗結果，在此task中Decision Tree會是一個比較合適的選項，在擁有較短的訓練時間的同時，能得到最好的表現。"
   ]
  }
 ],
 "metadata": {
  "kernelspec": {
   "display_name": "Python 3",
   "language": "python",
   "name": "python3"
  },
  "language_info": {
   "codemirror_mode": {
    "name": "ipython",
    "version": 3
   },
   "file_extension": ".py",
   "mimetype": "text/x-python",
   "name": "python",
   "nbconvert_exporter": "python",
   "pygments_lexer": "ipython3",
   "version": "3.10.10"
  },
  "papermill": {
   "default_parameters": {},
   "duration": 32240.503304,
   "end_time": "2023-07-23T17:11:46.882214",
   "environment_variables": {},
   "exception": null,
   "input_path": "__notebook__.ipynb",
   "output_path": "__notebook__.ipynb",
   "parameters": {},
   "start_time": "2023-07-23T08:14:26.378910",
   "version": "2.4.0"
  }
 },
 "nbformat": 4,
 "nbformat_minor": 5
}
